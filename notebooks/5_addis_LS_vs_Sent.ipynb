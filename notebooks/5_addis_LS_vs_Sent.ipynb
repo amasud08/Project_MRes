{
 "cells": [
  {
   "cell_type": "code",
   "execution_count": 79,
   "id": "9aa6d66a",
   "metadata": {},
   "outputs": [],
   "source": [
    "import os\n",
    "import ee\n",
    "import geemap\n",
    "import geemap.chart as chart\n",
    "from geemap import cartoee\n",
    "import pandas as pd\n",
    "import numpy as np\n",
    "import datetime\n",
    "import seaborn as sns\n",
    "import matplotlib.pyplot as plt\n",
    "%matplotlib inline"
   ]
  },
  {
   "cell_type": "code",
   "execution_count": 80,
   "id": "6d934ad2",
   "metadata": {
    "scrolled": true
   },
   "outputs": [
    {
     "data": {
      "application/vnd.jupyter.widget-view+json": {
       "model_id": "6300b60b8dd24a24a918128a126b68b8",
       "version_major": 2,
       "version_minor": 0
      },
      "text/plain": [
       "Map(center=[8.9801, 38.7805], controls=(WidgetControl(options=['position', 'transparent_bg'], widget=HBox(chil…"
      ]
     },
     "metadata": {},
     "output_type": "display_data"
    }
   ],
   "source": [
    "# Get basemap layer and set it to Addis Ababa\n",
    "map = geemap.Map(center=(8.9801, 38.7805), zoom=11)\n",
    "map"
   ]
  },
  {
   "cell_type": "code",
   "execution_count": 81,
   "id": "840a3922",
   "metadata": {},
   "outputs": [],
   "source": [
    "import geemap\n",
    "\n",
    "Map = geemap.Map()"
   ]
  },
  {
   "cell_type": "code",
   "execution_count": 82,
   "id": "28ed87d3",
   "metadata": {},
   "outputs": [],
   "source": [
    "# Get Addis boundary shapefile from https://data.humdata.org/dataset/cod-ab-eth\n",
    "addis_shpfile = \"C:/Users/c1032379/OneDrive - Newcastle University/10_Research_Project/Project_MRes/data/input_data/admin_boundaries/addis_bndry_py_hdx_2021.shp\"\n",
    "addis_bndry = geemap.shp_to_ee(addis_shpfile)\n",
    "\n",
    "start = ee.Date(\"2020-01-01\")\n",
    "date_today = ee.Date(datetime.datetime.today().strftime('%Y-%m-%d'))\n",
    "\n",
    "# Set area of interest covering Addis Ababa\n",
    "aoi = ee.Geometry.Point([38.7805, 8.9801])\n",
    "\n",
    "def se2mask(image):\n",
    "    quality_band = image.select('QA60')\n",
    "    \n",
    "    # using the bit mask for clouds and cirrus clouds respectively\n",
    "    cloudmask = 1 << 10\n",
    "    cirrusmask = 1 << 11\n",
    "    \n",
    "    # we only want clear skies\n",
    "    mask = quality_band.bitwiseAnd(cloudmask).eq(0) and (quality_band.bitwiseAnd(cirrusmask).eq(0))\n",
    "    \n",
    "    # we'll divide by 10000 to make interpreting the reflectance values easier\n",
    "    return image.updateMask(mask).divide(10000)\n",
    "\n",
    "def LSmask(image):\n",
    "    qaMask = image.select('QA_PIXEL').bitwiseAnd(int('11111', 2)).eq(0)\n",
    "    \n",
    "    # Apply the scaling factors to the appropriate bands.\n",
    "    opticalBands = image.select('SR_B.').multiply(0.0000275).add(-0.2)\n",
    "    thermalBands = image.select('ST_B.*').multiply(0.00341802).add(149.0)    \n",
    "\n",
    "    # Replace the original bands with the scaled ones and apply the masks.\n",
    "    return image.addBands(opticalBands, None, True).addBands(thermalBands, None, True).updateMask(qaMask)\n",
    "\n",
    "images_Sent = ee.ImageCollection('COPERNICUS/S2_SR') \\\n",
    "    .filterBounds(aoi) \\\n",
    "    .filterDate(start, date_today) \\\n",
    "    .filter('CLOUDY_PIXEL_PERCENTAGE < 2') \\\n",
    "    .sort('CLOUDY_PIXEL_PERCENTAGE') \\\n",
    "    .map(se2mask).median().clip(addis_bndry)\n",
    "\n",
    "\n",
    "images_LS = ee.ImageCollection('LANDSAT/LC08/C02/T1_L2') \\\n",
    "    .filterBounds(aoi) \\\n",
    "    .filterDate(start, date_today) \\\n",
    "    .filter('CLOUD_COVER < 2') \\\n",
    "    .sort('CLOUD_COVER') \\\n",
    "    .map(LSmask).median().clip(addis_bndry)"
   ]
  },
  {
   "cell_type": "code",
   "execution_count": 83,
   "id": "d398d83d",
   "metadata": {},
   "outputs": [],
   "source": [
    "ls_vis = {\"min\": 0, \"max\": 0.4,  \"gamma\": 1.2, 'bands': ['SR_B4', 'SR_B3', 'SR_B2']}\n",
    "sent_vis = {\"min\":0.0, \"max\":0.3, 'bands': ['B4', 'B3', 'B2']}\n",
    "\n",
    "map.addLayer(images_Sent, sent_vis, 'Sentinel')\n",
    "map.addLayer(images_LS, ls_vis, 'Landsat')"
   ]
  }
 ],
 "metadata": {
  "kernelspec": {
   "display_name": "Python 3 (ipykernel)",
   "language": "python",
   "name": "python3"
  },
  "language_info": {
   "codemirror_mode": {
    "name": "ipython",
    "version": 3
   },
   "file_extension": ".py",
   "mimetype": "text/x-python",
   "name": "python",
   "nbconvert_exporter": "python",
   "pygments_lexer": "ipython3",
   "version": "3.8.13"
  }
 },
 "nbformat": 4,
 "nbformat_minor": 5
}
