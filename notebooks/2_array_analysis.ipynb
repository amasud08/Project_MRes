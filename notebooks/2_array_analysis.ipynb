{
 "cells": [
  {
   "cell_type": "markdown",
   "id": "4b5e438d",
   "metadata": {},
   "source": [
    "### Import Libraries"
   ]
  },
  {
   "cell_type": "code",
   "execution_count": 1,
   "id": "1380ecef",
   "metadata": {},
   "outputs": [],
   "source": [
    "import os\n",
    "import ee\n",
    "import geemap\n",
    "import geemap.chart as chart\n",
    "from geemap import cartoee\n",
    "import pandas as pd\n",
    "import numpy as np\n",
    "import datetime\n",
    "import seaborn as sns\n",
    "import matplotlib.pyplot as plt\n",
    "%matplotlib inline\n",
    "import ipygee as ui\n",
    "from skimage.filters import threshold_otsu\n",
    "from skimage.filters import threshold_li\n",
    "from skimage.filters import threshold_local\n",
    "from collections import namedtuple\n",
    "import time\n",
    "from sklearn.metrics import accuracy_score\n",
    "from sklearn.metrics import classification_report\n",
    "from sklearn import metrics\n",
    "\n",
    "import warnings\n",
    "warnings.filterwarnings('ignore')"
   ]
  },
  {
   "cell_type": "markdown",
   "id": "fbce45ee",
   "metadata": {},
   "source": [
    "### Get Addis Ababa boundary data"
   ]
  },
  {
   "cell_type": "code",
   "execution_count": 2,
   "id": "1b3f2e56",
   "metadata": {},
   "outputs": [],
   "source": [
    "# Get basemap layer and set it to Addis Ababa\n",
    "map = geemap.Map(center=(8.9801, 38.7805), zoom=11)"
   ]
  },
  {
   "cell_type": "code",
   "execution_count": 3,
   "id": "4538c276",
   "metadata": {},
   "outputs": [],
   "source": [
    "# Get Addis boundary shapefile from https://data.humdata.org/dataset/cod-ab-eth\n",
    "addis_shpfile = \"C:/Users/c1032379/OneDrive - Newcastle University/10_Research_Project/Project_MRes/data/input_data/admin_boundaries/addis_bndry_py_hdx_2021.shp\"\n",
    "addis_bndry = geemap.shp_to_ee(addis_shpfile)"
   ]
  },
  {
   "cell_type": "markdown",
   "id": "9561d401",
   "metadata": {},
   "source": [
    "### Pre-process and filter data"
   ]
  },
  {
   "cell_type": "code",
   "execution_count": 4,
   "id": "06ded24b",
   "metadata": {},
   "outputs": [],
   "source": [
    "# Set area of interest covering Addis Ababa\n",
    "aoi = ee.Geometry.Point([38.7805, 8.9801])\n",
    "\n",
    "# Data required\n",
    "LS_8 = \"LANDSAT/LC08/C02/T1_L2\"\n",
    "LS_7 = \"LANDSAT/LE07/C02/T1_L2\"\n",
    "LS_5 = \"LANDSAT/LT05/C02/T1_L2\"\n",
    "\n",
    "# # Set date filters\n",
    "start = ee.Date('1991-01-01')\n",
    "date_today = datetime.date.today().strftime('%Y-%m-%d')\n",
    "end = ee.Date(date_today)\n",
    "\n",
    "# Set additional filters \n",
    "cloud = ee.Filter.lt(\"CLOUD_COVER\", 5)\n",
    "season = ee.Filter.calendarRange(10, 2, 'month')\n",
    "order = \"system:time_start\"\n",
    "\n",
    "# Filter the collection\n",
    "def filter_cltn(cltn, aoi, cloud, startDate, endDate, season, order):\n",
    "    return ee.ImageCollection(cltn)\\\n",
    "    .filterBounds(aoi)\\\n",
    "    .filter(cloud)\\\n",
    "    .filterDate(startDate, endDate)\\\n",
    "    .filter(season)\\\n",
    "    .sort(order)\\\n",
    "    .map(lambda image: image.clip(addis_bndry))"
   ]
  },
  {
   "cell_type": "code",
   "execution_count": 5,
   "id": "e4a8c128",
   "metadata": {},
   "outputs": [],
   "source": [
    "# Code obtained from a combination of \n",
    "# https://github.com/giswqs/geemap/blob/ca365d23a10dbbbb29ff3ff5cd29acc89f42d10f/geemap/timelapse.py#L2075\n",
    "# and https://gist.github.com/jdbcode/76b9ac49faf51627ebd3ff988e10adbc\n",
    "\n",
    "### Function to mask out clouds and apply scaling factors\n",
    "def fmask(image):\n",
    "    qaMask = image.select('QA_PIXEL').bitwiseAnd(int('11111', 2)).eq(0)\n",
    "    \n",
    "    # Apply the scaling factors to the appropriate bands.\n",
    "    opticalBands = image.select('SR_B.').multiply(0.0000275).add(-0.2)\n",
    "    thermalBands = image.select('ST_B.*').multiply(0.00341802).add(149.0)    \n",
    "\n",
    "    # Replace the original bands with the scaled ones and apply the masks.\n",
    "    return image.addBands(opticalBands, None, True).addBands(thermalBands, None, True).updateMask(qaMask)\n",
    "\n",
    "\n",
    "### Function to rename Landsat 5 and 7 bands. \n",
    "def Bands_L5_L7(L5_L7imgs):\n",
    "    return L5_L7imgs.select(\n",
    "        [\"SR_B1\", \"SR_B2\", \"SR_B3\", \"SR_B4\", \"SR_B5\", \"SR_B7\"],\n",
    "        [\"Blue\", \"Green\", \"Red\", \"NIR\", \"SWIR1\", \"SWIR2\"],\n",
    "    )\n",
    "\n",
    "\n",
    "### Function to rename Landsat 5 and 7 bands. \n",
    "def Bands_L8(L8imgs):\n",
    "    return L8imgs.select(\n",
    "        [\"SR_B2\", \"SR_B3\", \"SR_B4\", \"SR_B5\", \"SR_B6\", \"SR_B7\"],\n",
    "        [\"Blue\", \"Green\", \"Red\", \"NIR\", \"SWIR1\", \"SWIR2\"],\n",
    "    )\n",
    "\n",
    "### Functions to prepare and resample Landsat 5, 7 and 8 imagery.\n",
    "def prepL8(img):\n",
    "    orig = img\n",
    "    img = fmask(img)\n",
    "    img = Bands_L8(img)\n",
    "    return ee.Image(img.copyProperties(orig, orig.propertyNames())).resample(\"bicubic\")\n",
    "\n",
    "def prep_L5L7(img):\n",
    "    orig = img\n",
    "    img = fmask(img)\n",
    "    img = Bands_L5_L7(img)\n",
    "    return ee.Image(img.copyProperties(orig, orig.propertyNames())).resample(\"bicubic\")"
   ]
  },
  {
   "cell_type": "markdown",
   "id": "6376d98d",
   "metadata": {},
   "source": [
    "### Add indices"
   ]
  },
  {
   "cell_type": "code",
   "execution_count": 6,
   "id": "d7515ff0",
   "metadata": {},
   "outputs": [],
   "source": [
    "# Include the following indices - Normalized difference built-up index (NDBI), \n",
    "# Normalized Difference Thermal Index (NDTI) and Buildup Index (BUI)\n",
    "\n",
    "def indices(img):\n",
    "    \n",
    "    # calculate ndbi\n",
    "    ndbi = img.normalizedDifference([\"SWIR1\", \"NIR\"]).rename('NDBI')\n",
    "    \n",
    "    # calculate mndbi\n",
    "    mndbi = img.normalizedDifference([\"SWIR2\", \"Blue\"]).rename('MNDBI')\n",
    "    \n",
    "    \n",
    "    buiA = img.expression(\"(SWIR1 - NIR) / (SWIR1 + NIR)\", {\n",
    "        \"SWIR1\": img.select(\"SWIR1\"),\n",
    "        \"NIR\": img.select(\"NIR\")\n",
    "    }).rename(\"BUI_A\")\n",
    "    \n",
    "    buiB = img.expression(\"(NIR - Red) / (NIR + Red)\", {\n",
    "        \"NIR\": img.select(\"NIR\"),\n",
    "        \"Red\": img.select(\"Red\")\n",
    "    }).rename(\"BUI_B\")\n",
    "        \n",
    "    bui_AB = buiA.addBands(buiB);\n",
    "    bui = bui_AB.normalizedDifference([\"BUI_A\", \"BUI_B\"]).rename(\"BUI\")\n",
    "    \n",
    "    #Calculate Index-Based Built-Up Index (IBI)\n",
    "    # https://bikeshbade.com.np/tutorials/Detail/?title=Most%20used%20spectral%20Indices%20with%20free%20satellite%20data&code=23\n",
    "    ibiA = img.expression('2 * SWIR1 / (SWIR1 + NIR)', {\n",
    "        'SWIR1': img.select('SWIR1'),\n",
    "        'NIR'  : img.select('NIR')}).rename(\"IBI_A\")\n",
    "    \n",
    "    ibiB = img.expression('(NIR / (NIR + Red)) + (Green / (Green + SWIR1))', {\n",
    "        \"NIR\"  : img.select(\"NIR\"),\n",
    "        \"Red\"  : img.select(\"Red\"),\n",
    "        \"Green\": img.select(\"Green\"),\n",
    "        \"SWIR1\": img.select(\"SWIR1\")}).rename(\"IBI_B\")\n",
    "    \n",
    "    ibiAB = ibiA.addBands(ibiB);\n",
    "    ibi = ibiAB.normalizedDifference([\"IBI_A\", \"IBI_B\"]).rename(\"IBI\")\n",
    "    \n",
    "    \n",
    "    # Calculate ENDISI - https://docs.dea.ga.gov.au/notebooks/Real_world_examples/Urban_change_detection.html\n",
    "    swir_diff = img.expression(\"SWIR1 / SWIR2\", {\"SWIR1\": img.select(\"SWIR1\"), \"SWIR2\": img.select(\"SWIR2\"),\n",
    "                                                }).rename('swir_diff')\n",
    "    \n",
    "     \n",
    "    mndwi = img.normalizedDifference([\"Green\", \"SWIR1\"]).rename('MNDWI')\n",
    " \n",
    "    img = img.addBands([swir_diff, mndwi])\n",
    "    \n",
    "    blue_mean = img.select(\"Blue\").reduceRegion(ee.Reducer.mean(), addis_bndry, 30).toImage().rename(\"blue_mean\")\n",
    "    \n",
    "    swir_mean = img.select(\"swir_diff\").reduceRegion(ee.Reducer.mean(), addis_bndry, 30).toImage().rename(\"swir_mean\")\n",
    "    \n",
    "    mndwi_mean = img.select(\"MNDWI\").multiply(img.select(\"MNDWI\")).reduceRegion(ee.Reducer.mean(), addis_bndry, 30).toImage().rename(\"mndwi_mean\")\n",
    "    \n",
    "    img = img.addBands([blue_mean, swir_mean, mndwi_mean])\n",
    "    \n",
    "    alpha = img.expression('(2 * b(\"blue_mean\")) / (b(\"swir_mean\") +  b(\"mndwi_mean\"))').rename(\"alpha\")\n",
    "    \n",
    "    img = img.addBands(alpha)\n",
    "    \n",
    "    ENDISI = img.expression('(b(\"Blue\") - b(\"alpha\") * (b(\"swir_diff\") + b(\"MNDWI\")**2)) / (b(\"Blue\") + b(\"alpha\") * (b(\"swir_diff\") + b(\"MNDWI\")**2))').rename(\"ENDISI\")\n",
    "    \n",
    "    # PISI\n",
    "    \n",
    "    pisi = img.expression('(0.8192 * b(\"Blue\") - 0.5735 * b(\"NIR\") + 0.0750)').rename(\"PISI\")\n",
    "    \n",
    "    return  img.addBands([ndbi, mndbi, bui, ibi, ENDISI, pisi])"
   ]
  },
  {
   "cell_type": "markdown",
   "id": "79431c81",
   "metadata": {},
   "source": [
    "### Merge collection and get annual sequence"
   ]
  },
  {
   "cell_type": "code",
   "execution_count": 7,
   "id": "93adeb57",
   "metadata": {},
   "outputs": [],
   "source": [
    "### Adapted code from https://gist.github.com/jdbcode/76b9ac49faf51627ebd3ff988e10adbc\n",
    "\n",
    "# Setup vars to get dates.\n",
    "startYear = 1991\n",
    "endYear = 2021\n",
    "startMonth = 10\n",
    "startDay = 1\n",
    "nDays = 151\n",
    "\n",
    "# Get annual median collection.    \n",
    "def getAnnualComp(y):\n",
    "    startDate = ee.Date.fromYMD(\n",
    "    ee.Number(y), ee.Number(startMonth), ee.Number(startDay))\n",
    "    endDate = startDate.advance(ee.Number(nDays), 'day')\n",
    "\n",
    "    # Filter collections and prepare them for merging.\n",
    "    t_LC08coly = filter_cltn(LS_8, aoi, cloud, startDate, endDate, season, order).map(prepL8)\n",
    "    t_LE07coly = filter_cltn(LS_7, aoi, cloud, startDate, endDate, season, order).map(prep_L5L7)\n",
    "    t_LT05coly = filter_cltn(LS_5, aoi, cloud, startDate, endDate, season, order).map(prep_L5L7)\n",
    "    \n",
    "    # .map(lambda image: image.unmask(-9999))\n",
    "\n",
    "    # Merge the collections.\n",
    "    col = t_LC08coly.merge(t_LE07coly).merge(t_LT05coly)\n",
    "    \n",
    "    yearImg = col.median()\n",
    "    nBands = yearImg.bandNames().size()\n",
    "    yearImg = ee.Image(ee.Algorithms.If(\n",
    "        nBands,\n",
    "        yearImg,\n",
    "        dummyImg))\n",
    "    return(indices(yearImg)\n",
    "           .set({'year': y, 'system:time_start': startDate.millis(), 'nBands': nBands}))\n",
    "\n",
    "# # Make a dummy image for missing years.\n",
    "bandNames = ee.List(['Blue', 'Green', 'Red', 'NIR', 'SWIR1', 'SWIR2'])\n",
    "fillerValues = ee.List.repeat(0, bandNames.size())\n",
    "dummyImg = ee.Image.constant(fillerValues).rename(bandNames).selfMask().int16()\n",
    "\n",
    "# Get a list of years\n",
    "years = ee.List.sequence(startYear, endYear)\n",
    "\n",
    "# Make list of annual image composites.\n",
    "imgList = years.map(getAnnualComp)\n",
    "\n",
    "# Convert image composite list to collection\n",
    "imgCol = ee.ImageCollection.fromImages(imgList)\n",
    "\n",
    "# check the first image in the collection\n",
    "first_collated = imgCol.first()\n",
    "\n",
    "# get the size of the collection\n",
    "size = imgCol.size().getInfo()"
   ]
  },
  {
   "cell_type": "markdown",
   "id": "bd5dcd5e",
   "metadata": {},
   "source": [
    "### Get annual images from the collection"
   ]
  },
  {
   "cell_type": "code",
   "execution_count": 8,
   "id": "e5d87625",
   "metadata": {},
   "outputs": [],
   "source": [
    "y_1991 = ee.Image(imgList.get(0))\n",
    "y_1992 = ee.Image(imgList.get(1))\n",
    "y_1993 = ee.Image(imgList.get(2))\n",
    "y_1994 = ee.Image(imgList.get(3))\n",
    "y_1995 = ee.Image(imgList.get(4))\n",
    "y_1996 = ee.Image(imgList.get(5))\n",
    "\n",
    "y_1998 = ee.Image(imgList.get(7))\n",
    "y_1999 = ee.Image(imgList.get(8))\n",
    "y_2000 = ee.Image(imgList.get(9))\n",
    "y_2001 = ee.Image(imgList.get(10))\n",
    "y_2002 = ee.Image(imgList.get(11))\n",
    "y_2003 = ee.Image(imgList.get(12))\n",
    "y_2004 = ee.Image(imgList.get(13))\n",
    "y_2005 = ee.Image(imgList.get(14))\n",
    "y_2006 = ee.Image(imgList.get(15))\n",
    "y_2007 = ee.Image(imgList.get(16))\n",
    "y_2008 = ee.Image(imgList.get(17))\n",
    "y_2009 = ee.Image(imgList.get(18))\n",
    "y_2010 = ee.Image(imgList.get(19))\n",
    "y_2011 = ee.Image(imgList.get(20))\n",
    "y_2012 = ee.Image(imgList.get(21))\n",
    "y_2013 = ee.Image(imgList.get(22))\n",
    "y_2014 = ee.Image(imgList.get(23))\n",
    "y_2015 = ee.Image(imgList.get(24))\n",
    "y_2016 = ee.Image(imgList.get(25))\n",
    "y_2017 = ee.Image(imgList.get(26))\n",
    "y_2018 = ee.Image(imgList.get(27))\n",
    "y_2019 = ee.Image(imgList.get(28))\n",
    "y_2020 = ee.Image(imgList.get(29))\n",
    "y_2021 = ee.Image(imgList.get(30)) \n",
    "\n",
    "annual_list = [y_1991, y_1992, y_1993, y_1994, y_1995, y_1996, y_1998, y_1999, y_2000, y_2001, y_2002, y_2003, y_2004, y_2005, \n",
    "               y_2006, y_2007, y_2008, y_2009, y_2010, y_2011, y_2012, y_2013, y_2014, y_2015, y_2016, y_2017, y_2018, y_2019,\n",
    "              y_2020, y_2021]"
   ]
  },
  {
   "cell_type": "markdown",
   "id": "665db103",
   "metadata": {},
   "source": [
    "### Get Image Arrays"
   ]
  },
  {
   "cell_type": "code",
   "execution_count": 9,
   "id": "62d65e81",
   "metadata": {},
   "outputs": [],
   "source": [
    "# code obtained from \n",
    "# https://github.com/mvpeppa/Remote-Sensing-Tests-with-Google-Earth-Engine/blob/main/Waterline%20extraction%20e.g.%20Lake%20Koka%20Ethiopia.ipynb\n",
    "\n",
    "def img2array1D(img, band):\n",
    "    # extract the data from an ee.image\n",
    "    img = img.select(band)\n",
    "    # extract the pixel values from the image\n",
    "    info = img.reduceRegion(ee.Reducer.toList(), geometry=addis_bndry, scale=30)\n",
    "    # Convert to an 1D array for further use\n",
    "    data = np.array((ee.Array(info.get(band)).getInfo()))\n",
    "    return data"
   ]
  },
  {
   "cell_type": "code",
   "execution_count": 10,
   "id": "d6e0d947",
   "metadata": {},
   "outputs": [],
   "source": [
    "annual_list = [y_1991, y_1992, y_1993, y_1994, y_1995, y_1996, y_1998, y_1999, y_2000, y_2001, y_2002, y_2003, y_2004, \n",
    "               y_2005, y_2006, y_2007, y_2008, y_2009, y_2010, y_2011, y_2012, y_2013, y_2014, y_2015, y_2016, y_2017, \n",
    "               y_2018, y_2019, y_2020, y_2021]\n",
    "\n",
    "annual_list_names = [\"y_1991\", \"y_1992\", \"y_1993\", \"y_1994\", \"y_1995\", \"y_1996\", \"y_1998\", \"y_1999\", \"y_2000\", \"y_2001\", \n",
    "                     \"y_2002\", \"y_2003\", \"y_2004\", \"y_2005\", \"y_2006\", \"y_2007\", \"y_2008\", \"y_2009\", \"y_2010\", \"y_2011\", \n",
    "                     \"y_2012\", \"y_2013\", \"y_2014\", \"y_2015\", \"y_2016\", \"y_2017\", \"y_2018\", \"y_2019\", \"y_2020\", \"y_2021\"]\n",
    "\n",
    "list_of_bands = [\"NDBI\", \"MNDBI\", \"IBI\", \"ENDISI\", \"PISI\"]\n",
    "\n",
    "year_output = []\n",
    "\n",
    "for _,year in enumerate(annual_list):\n",
    "    output = []\n",
    "    \n",
    "    for _,band in enumerate(list_of_bands):\n",
    "        output.append(img2array1D(year, band))\n",
    "    \n",
    "    year_output.append(dict(zip(list_of_bands, output)))\n",
    "\n",
    "array_dict = dict(zip(annual_list_names, year_output))\n",
    "\n",
    "# pd.DataFrame(output_dict)"
   ]
  },
  {
   "cell_type": "code",
   "execution_count": null,
   "id": "bbd5057b",
   "metadata": {},
   "outputs": [],
   "source": [
    "# for key in array_dict[\"y_2015\"].keys():\n",
    "#     for value in array_dict[\"y_2015\"][key]:\n",
    "#         something = value\n",
    "#         print(type(something))"
   ]
  },
  {
   "cell_type": "code",
   "execution_count": null,
   "id": "49bd6eda",
   "metadata": {},
   "outputs": [],
   "source": [
    "# array_df = pd.read_csv('band_arrays.csv')\n",
    "# array_df.columns = array_df.columns.str.replace('Unnamed: 0', 'bands')\n",
    "# array_df = array_df.set_index('bands')\n",
    "# array_df"
   ]
  },
  {
   "cell_type": "markdown",
   "id": "19402391",
   "metadata": {},
   "source": [
    "### Inspect the year 2020"
   ]
  },
  {
   "cell_type": "code",
   "execution_count": 11,
   "id": "330748c7",
   "metadata": {},
   "outputs": [
    {
     "data": {
      "text/plain": [
       "{'NDBI': array([-0.03558799, -0.05166422, -0.04307123, ..., -0.31149119,\n",
       "        -0.27251521, -0.24729164]),\n",
       " 'MNDBI': array([0.30990317, 0.31203216, 0.35014218, ..., 0.41916841, 0.45457405,\n",
       "        0.44911999]),\n",
       " 'IBI': array([ 0.00820604, -0.00936838,  0.00537441, ..., -0.21865869,\n",
       "        -0.1862215 , -0.16127153]),\n",
       " 'ENDISI': array([-0.35878722, -0.40211459, -0.3715101 , ..., -0.78390689,\n",
       "        -0.78629041, -0.75771715]),\n",
       " 'PISI': array([ 0.00392005,  0.00846255, -0.00795662, ..., -0.03653059,\n",
       "        -0.03593575, -0.0339381 ])}"
      ]
     },
     "execution_count": 11,
     "metadata": {},
     "output_type": "execute_result"
    }
   ],
   "source": [
    "array_2020 = array_dict[\"y_2020\"]\n",
    "array_2020"
   ]
  },
  {
   "cell_type": "code",
   "execution_count": 12,
   "id": "46a04013",
   "metadata": {},
   "outputs": [
    {
     "data": {
      "image/png": "[encoded data removed]",
      "text/plain": [
       "<Figure size 936x576 with 5 Axes>"
      ]
     },
     "metadata": {},
     "output_type": "display_data"
    }
   ],
   "source": [
    "sns.set(style=\"whitegrid\")  \n",
    "fig,axs = plt.subplots(2,3, figsize = (13,8))\n",
    "\n",
    "sns.histplot(array_2020[\"NDBI\"], kde=False, color='#DC8665', bins=100, ax=axs[0, 0])\n",
    "axs[0,0].set_title(\"NDBI\", size=13)\n",
    "axs[0,0].set_ylabel(None)\n",
    "\n",
    "sns.histplot(array_2020[\"MNDBI\"], kde=False, color='#138086', bins=100, ax=axs[0, 1])\n",
    "axs[0,1].set_title(\"MNDBI\", size=13)\n",
    "axs[0,1].set_ylabel(None)\n",
    "\n",
    "sns.histplot(array_2020[\"IBI\"], kde=False, color='#534666', bins=100,ax=axs[0, 2])\n",
    "axs[0,2].set_title(\"IBI\", size=13)\n",
    "axs[0,2].set_ylabel(None)\n",
    "\n",
    "sns.histplot(array_2020[\"ENDISI\"], kde=False, color='#CD7672', bins=100, ax=axs[1, 0])\n",
    "axs[1,0].set_title(\"ENDISI\", size=13)\n",
    "axs[1,0].set_ylabel(None)\n",
    "\n",
    "sns.histplot(array_2020[\"PISI\"], kde=False, color='#EEB462', bins=100, ax=axs[1, 1])\n",
    "axs[1,1].set_title(\"PISI\", size=13)\n",
    "axs[1,1].set_ylabel(None)\n",
    "\n",
    "sns.histplot(array_2020[\"PISI\"], kde=False, color='#EEB462', bins=100, ax=axs[1, 1])\n",
    "axs[1,1].set_title(\"PISI\", size=13)\n",
    "axs[1,1].set_ylabel(None)\n",
    "\n",
    "# fig.suptitle(\"Distribution of pixel values across urban indices in Addis Ababa in 2015\", size=16)\n",
    "fig.subplots_adjust(top=0.88)\n",
    "fig.supxlabel(\"Index Range\", size=16)\n",
    "fig.supylabel(\"Frequency\", size=16)\n",
    "fig.delaxes(axs[1][2])\n",
    "fig.tight_layout()\n",
    "plt.savefig('C:/Users/c1032379/OneDrive - Newcastle University/10_Research_Project/Project_MRes/graphs/pixel_distribution.png', dpi=300)"
   ]
  },
  {
   "cell_type": "markdown",
   "id": "18b4df05",
   "metadata": {},
   "source": [
    "### Automatic Threshold"
   ]
  },
  {
   "cell_type": "code",
   "execution_count": 13,
   "id": "2b29ec82",
   "metadata": {},
   "outputs": [
    {
     "name": "stdout",
     "output_type": "stream",
     "text": [
      "Threshold Otsu: NDBI:-0.079, MNDBI:0.388, IBI:-0.046, ENDISI:-0.367, PISI:0.013\n",
      "Threshold Li: NDBI:-0.093, MNDBI:0.386, IBI:-0.054, ENDISI:-0.429, PISI:0.011\n"
     ]
    }
   ],
   "source": [
    "# Get automatic thresholds for 2015 (based on Global Human Settlement Data validation)\n",
    "ndbi_2020otsu = threshold_otsu(array_2020[\"NDBI\"]).round(3)\n",
    "ndbi_2020li = threshold_li(array_2020[\"NDBI\"]).round(3)\n",
    "\n",
    "mndbi_2020otsu = threshold_otsu(array_2020[\"MNDBI\"]).round(3)\n",
    "mndbi_2020li = threshold_li(array_2020[\"MNDBI\"]).round(3)\n",
    "\n",
    "ibi_2020otsu = threshold_otsu(array_2020[\"IBI\"]).round(3)\n",
    "ibi_2020li = threshold_li(array_2020[\"IBI\"]).round(3)\n",
    "\n",
    "endisi_2020otsu = threshold_otsu(array_2020[\"ENDISI\"]).round(3)\n",
    "endisi_2020li = threshold_li(array_2020[\"ENDISI\"]).round(3)\n",
    "\n",
    "pisi_2020otsu = threshold_otsu(array_2020[\"PISI\"]).round(3)\n",
    "pisi_2020li = threshold_li(array_2020[\"PISI\"]).round(3)\n",
    "\n",
    "print(f\"Threshold Otsu: NDBI:{ndbi_2020otsu}, MNDBI:{mndbi_2020otsu}, IBI:{ibi_2020otsu}, ENDISI:{endisi_2020otsu}, PISI:{pisi_2020otsu}\")\n",
    "print(f\"Threshold Li: NDBI:{ndbi_2020li}, MNDBI:{mndbi_2020li}, IBI:{ibi_2020li}, ENDISI:{endisi_2020li}, PISI:{pisi_2020li}\")"
   ]
  },
  {
   "cell_type": "code",
   "execution_count": 146,
   "id": "ad7f15ae",
   "metadata": {},
   "outputs": [
    {
     "data": {
      "image/png": "[encoded data removed]",
      "text/plain": [
       "<Figure size 936x576 with 5 Axes>"
      ]
     },
     "metadata": {},
     "output_type": "display_data"
    }
   ],
   "source": [
    "sns.set(style=\"whitegrid\")  \n",
    "fig,axs = plt.subplots(2,3, figsize = (13,8))\n",
    "\n",
    "sns.histplot(array_2020[\"NDBI\"], kde=False, color='#DC8665', bins=100, ax=axs[0, 0])\n",
    "axs[0,0].set_title(\"NDBI\", size=13)\n",
    "axs[0,0].set_ylabel(None)\n",
    "axs[0,0].axvline(-0.079, color='indianred', label='Threshold Otsu')\n",
    "axs[0,0].axvline(-0.093, color='#01796f', label='Threshold Li')\n",
    "\n",
    "sns.histplot(array_2020[\"MNDBI\"], kde=False, color='#138086', bins=100, ax=axs[0, 1])\n",
    "axs[0,1].set_title(\"MNDBI\", size=13)\n",
    "axs[0,1].set_ylabel(None)\n",
    "axs[0,1].axvline(0.388, color='indianred', label='Threshold Otsu')\n",
    "axs[0,1].axvline(0.386, color='#01796f', label='Threshold Li')\n",
    "\n",
    "\n",
    "sns.histplot(array_2020[\"IBI\"], kde=False, color='#534666', bins=100,ax=axs[0, 2])\n",
    "axs[0,2].set_title(\"IBI\", size=13)\n",
    "axs[0,2].set_ylabel(None)\n",
    "axs[0,2].axvline(-0.046, color='indianred', label='Threshold Otsu')\n",
    "axs[0,2].axvline(-0.054, color='#01796f', label='Threshold Li')\n",
    "\n",
    "\n",
    "sns.histplot(array_2020[\"ENDISI\"], kde=False, color='#CD7672', bins=100, ax=axs[1, 0])\n",
    "axs[1,0].set_title(\"ENDISI\", size=13)\n",
    "axs[1,0].set_ylabel(None)\n",
    "axs[1,0].axvline(-0.367, color='indianred', label='Threshold Otsu')\n",
    "axs[1,0].axvline(-0.429, color='#01796f', label='Threshold Li')\n",
    "\n",
    "sns.histplot(array_2020[\"PISI\"], kde=False, color='#EEB462', bins=100, ax=axs[1, 1])\n",
    "axs[1,1].set_title(\"PISI\", size=13)\n",
    "axs[1,1].set_ylabel(None)\n",
    "axs[1,1].axvline(0.013, color='indianred', label='Threshold Otsu')\n",
    "axs[1,1].axvline(0.011, color='#01796f', label='Threshold Li')\n",
    "\n",
    "labels = ['Threshold Otsu', 'Threshold Li']\n",
    "fig.legend(labels, loc='lower right', bbox_to_anchor=(1, 0), ncol=len(labels), bbox_transform=fig.transFigure)\n",
    "\n",
    "# fig.suptitle(\"Distribution of pixel values across urban indices in Addis Ababa in 2015\", size=16)\n",
    "fig.subplots_adjust(top=0.88)\n",
    "fig.supxlabel(\"Index Range\", size=16)\n",
    "fig.supylabel(\"Frequency\", size=16)\n",
    "fig.delaxes(axs[1][2])\n",
    "fig.tight_layout()\n",
    "plt.savefig('C:/Users/c1032379/OneDrive - Newcastle University/10_Research_Project/Project_MRes/graphs/pixel_dist_thresh.png', dpi=300)"
   ]
  },
  {
   "cell_type": "code",
   "execution_count": null,
   "id": "53d80092",
   "metadata": {},
   "outputs": [],
   "source": [
    "# # Get validation data\n",
    "# ghsl_img = ee.ImageCollection('JRC/GHSL/P2016/BUILT_LDSMT_GLOBE_V1') \\\n",
    "#     .select(\"built\") \\\n",
    "#     .gte(3) \\\n",
    "#     .clip(addis_bndry)\n",
    "\n",
    "# ghsl = ghsl_img.resample('bicubic').reproject(crs=LS_projection, scale=30)\n",
    "# ghsl_array = img2array1D(ghsl, \"built\")"
   ]
  },
  {
   "cell_type": "markdown",
   "id": "999adc82",
   "metadata": {},
   "source": [
    "### Get validation data and plot threshold data on map"
   ]
  },
  {
   "cell_type": "code",
   "execution_count": 156,
   "id": "013eef25",
   "metadata": {
    "scrolled": false
   },
   "outputs": [
    {
     "data": {
      "application/vnd.jupyter.widget-view+json": {
       "model_id": "584fb6ef0b314f56965e720823684cf8",
       "version_major": 2,
       "version_minor": 0
      },
      "text/plain": [
       "Map(center=[8.9801, 38.7805], controls=(WidgetControl(options=['position', 'transparent_bg'], widget=HBox(chil…"
      ]
     },
     "metadata": {},
     "output_type": "display_data"
    }
   ],
   "source": [
    "# Get basemap layer and set it to Addis Ababa\n",
    "map = geemap.Map(center=(8.9801, 38.7805), zoom=11)\n",
    "map"
   ]
  },
  {
   "cell_type": "code",
   "execution_count": 88,
   "id": "92ef9319",
   "metadata": {},
   "outputs": [],
   "source": [
    "esa_wc = ee.ImageCollection('ESA/WorldCover/v100')\\\n",
    "    .first() \\\n",
    "    .select(\"Map\") \\\n",
    "    .eq(50) \\\n",
    "    .clip(addis_bndry)\n",
    "\n",
    "# map.addLayer(esa_wc, {}, \"ESA/WorldCover/v100 Mask\")"
   ]
  },
  {
   "cell_type": "code",
   "execution_count": 157,
   "id": "0db79978",
   "metadata": {},
   "outputs": [
    {
     "name": "stdout",
     "output_type": "stream",
     "text": [
      "esa_projection: 9.276624232772797\n",
      "esa_reproject: 30.000000000000004\n"
     ]
    }
   ],
   "source": [
    "# reproject to Landsat\n",
    "LS_projection = y_2015.projection().getInfo()['crs']\n",
    "esa_projection = esa_wc.projection().nominalScale().getInfo()\n",
    "print(f\"esa_projection: {esa_projection}\")\n",
    "esa_img = esa_wc.resample('bicubic').reproject(crs=LS_projection, scale=30)\n",
    "esa_reproject = esa_img.projection().nominalScale().getInfo()\n",
    "print(f\"esa_reproject: {esa_reproject}\")\n",
    "\n",
    "map.addLayer(esa_img, {}, \"ESA Reproject\")"
   ]
  },
  {
   "cell_type": "code",
   "execution_count": 90,
   "id": "2f1ab56d",
   "metadata": {},
   "outputs": [
    {
     "name": "stdout",
     "output_type": "stream",
     "text": [
      "[0 0 0 ... 0 0 0]\n"
     ]
    }
   ],
   "source": [
    "esa_array = img2array1D(esa_img, \"Map\")\n",
    "print(esa_array)"
   ]
  },
  {
   "cell_type": "markdown",
   "id": "0642cf69",
   "metadata": {},
   "source": [
    "### Automatic Thresholds"
   ]
  },
  {
   "cell_type": "code",
   "execution_count": 167,
   "id": "cbb509e1",
   "metadata": {},
   "outputs": [],
   "source": [
    "# NDBI\n",
    "ndbi2020_ATO = y_2020.select(\"NDBI\").gte(-0.079)\n",
    "ndbi2020_ATL = y_2020.select(\"NDBI\").gte(-0.093)\n",
    "\n",
    "# MNDBI\n",
    "mndbi2020_ATO = y_2020.select(\"MNDBI\").lte(0.388)\n",
    "mndbi2020_ATL = y_2020.select(\"MNDBI\").lte(0.386)\n",
    "\n",
    "# IBI\n",
    "ibi2020_ATO = y_2020.select(\"IBI\").gte(-0.046)\n",
    "ibi2020_ATL = y_2020.select(\"IBI\").gte(-0.054)\n",
    "\n",
    "# ENDISI\n",
    "endisi2020_ATO = y_2020.select(\"ENDISI\").gte(-0.367)\n",
    "endisi2020_ATL = y_2020.select(\"ENDISI\").gte(-0.429)\n",
    "\n",
    "# PISI\n",
    "pisi2020_ATO = y_2020.select(\"PISI\").gte(0.013)\n",
    "pisi2020_ATL = y_2020.select(\"PISI\").gte(0.011)\n",
    "\n",
    "ATO_visuals = {\"palette\": [\"black\", \"d7191c\"]}\n",
    "ATL_visuals = {\"palette\": [\"black\", \"fdae61\"]}\n",
    "\n",
    "map.addLayer(ndbi2020_ATO, ATO_visuals, \"NDBI 2020 ATO\")\n",
    "map.addLayer(ndbi2020_ATL, ATL_visuals, \"NDBI 2020 ATL\")\n",
    "\n",
    "map.addLayer(mndbi2020_ATO, ATO_visuals, \"MNDBI 2020 ATO\")\n",
    "map.addLayer(mndbi2020_ATL, ATL_visuals, \"MNDBI 2020 ATL\")\n",
    "\n",
    "map.addLayer(ibi2020_ATO, ATO_visuals, \"IBI 2020 ATO\")\n",
    "map.addLayer(ibi2020_ATL, ATL_visuals, \"IBI 2020 ATL\")"
   ]
  },
  {
   "cell_type": "markdown",
   "id": "9eb65582",
   "metadata": {},
   "source": [
    "### Manual Thresholds"
   ]
  },
  {
   "cell_type": "code",
   "execution_count": 170,
   "id": "b4eaf62c",
   "metadata": {},
   "outputs": [],
   "source": [
    "# # Based on the thresholds set out by the authors in their research\n",
    "\n",
    "MT_visuals = {\"palette\": [\"black\", \"2b83ba\"]}\n",
    "\n",
    "\n",
    "# # No threshold set\n",
    "ndbi2020_MT = y_2020.select(\"NDBI\").gte(0)\n",
    "\n",
    "# # # 0.05-0.14\n",
    "mndbi2020_MT = y_2020.select(\"MNDBI\").lte(0.38)\n",
    "\n",
    "# 0.013\n",
    "ibi2020_MT = y_2020.select(\"IBI\").gte(0.03)\n",
    "\n",
    "# # -0.16 - -0.07\n",
    "endisi2020_MT = y_2020.select(\"ENDISI\").gte(-0.16)\n",
    "\n",
    "# 0.26\n",
    "pisi2020_MT = y_2020.select(\"PISI\").gte(0.04)\n",
    "\n",
    "map.addLayer(ndbi2020_MT, MT_visuals, \"ndbi 2020 MT\")\n",
    "map.addLayer(mndbi2020_MT, MT_visuals, \"mndbi 2020 MT\")\n",
    "map.addLayer(ibi2020_MT, MT_visuals, \"ibi 2020 MT\")"
   ]
  },
  {
   "cell_type": "markdown",
   "id": "df35fb0c",
   "metadata": {},
   "source": [
    "### NDBI Threshold"
   ]
  },
  {
   "cell_type": "code",
   "execution_count": 104,
   "id": "c8a91666",
   "metadata": {},
   "outputs": [],
   "source": [
    "ndbiATO_array = img2array1D(ndbi2020_ATO, \"NDBI\")\n",
    "ndbiATL_array = img2array1D(ndbi2020_ATL, \"NDBI\")\n",
    "ndbiMT_array = img2array1D(ndbi2020_MT, \"NDBI\")"
   ]
  },
  {
   "cell_type": "code",
   "execution_count": 105,
   "id": "0952d30f",
   "metadata": {},
   "outputs": [
    {
     "name": "stdout",
     "output_type": "stream",
     "text": [
      "NDBI Otsu Threshold: 40.04% accuracy\n"
     ]
    }
   ],
   "source": [
    "equal = 0\n",
    "for i in range(0, len(ndbiATO_array)):\n",
    "    if ndbiATO_array[i] == esa_array[i]:\n",
    "        equal += 1\n",
    "print(f\"NDBI Otsu Threshold: {(equal/len(ndbiATO_array)*100):.2f}% accuracy\")"
   ]
  },
  {
   "cell_type": "code",
   "execution_count": 106,
   "id": "b18809bb",
   "metadata": {},
   "outputs": [
    {
     "name": "stdout",
     "output_type": "stream",
     "text": [
      "NDBI Li Threshold: 39.11% accuracy\n"
     ]
    }
   ],
   "source": [
    "equal = 0\n",
    "\n",
    "for i in range(0, len(ndbiATL_array)):\n",
    "    if ndbiATL_array[i] == esa_array[i]:\n",
    "        equal += 1\n",
    "print(f\"NDBI Li Threshold: {(equal/len(ndbiATL_array)*100):.2f}% accuracy\")"
   ]
  },
  {
   "cell_type": "code",
   "execution_count": 107,
   "id": "738ec531",
   "metadata": {},
   "outputs": [
    {
     "name": "stdout",
     "output_type": "stream",
     "text": [
      "NDBI Manual Threshold: 49.38% accuracy\n"
     ]
    }
   ],
   "source": [
    "equal = 0\n",
    "\n",
    "for i in range(0, len(ndbiMT_array)):\n",
    "    if ndbiMT_array[i] == esa_array[i]:\n",
    "        equal += 1\n",
    "print(f\"NDBI Manual Threshold: {(equal/len(ndbiMT_array)*100):.2f}% accuracy\")"
   ]
  },
  {
   "cell_type": "markdown",
   "id": "ac22c6be",
   "metadata": {},
   "source": [
    "### MNDBI Threshold"
   ]
  },
  {
   "cell_type": "code",
   "execution_count": 108,
   "id": "a5bcb737",
   "metadata": {},
   "outputs": [],
   "source": [
    "mndbiATO_array = img2array1D(mndbi2020_ATO, \"MNDBI\")\n",
    "mndbiATL_array = img2array1D(mndbi2020_ATL, \"MNDBI\")\n",
    "mndbiMT_array = img2array1D(mndbi2020_MT, \"MNDBI\")"
   ]
  },
  {
   "cell_type": "code",
   "execution_count": 109,
   "id": "7ff497e1",
   "metadata": {},
   "outputs": [
    {
     "name": "stdout",
     "output_type": "stream",
     "text": [
      "MNDBI Otsu Threshold: 48.01% accuracy\n"
     ]
    }
   ],
   "source": [
    "equal = 0\n",
    "for i in range(0, len(mndbiATO_array)):\n",
    "    if mndbiATO_array[i] == esa_array[i]:\n",
    "        equal += 1\n",
    "print(f\"MNDBI Otsu Threshold: {(equal/len(mndbiATO_array)*100):.2f}% accuracy\")"
   ]
  },
  {
   "cell_type": "code",
   "execution_count": 110,
   "id": "7d26c350",
   "metadata": {},
   "outputs": [
    {
     "name": "stdout",
     "output_type": "stream",
     "text": [
      "MNDBI Li Threshold: 48.54% accuracy\n"
     ]
    }
   ],
   "source": [
    "equal = 0\n",
    "\n",
    "for i in range(0, len(mndbiATL_array)):\n",
    "    if mndbiATL_array[i] == esa_array[i]:\n",
    "        equal += 1\n",
    "print(f\"MNDBI Li Threshold: {(equal/len(mndbiATL_array)*100):.2f}% accuracy\")"
   ]
  },
  {
   "cell_type": "code",
   "execution_count": 111,
   "id": "8aa4ec9f",
   "metadata": {},
   "outputs": [
    {
     "name": "stdout",
     "output_type": "stream",
     "text": [
      "MNDBI Manual Threshold: 50.17% accuracy\n"
     ]
    }
   ],
   "source": [
    "equal = 0\n",
    "\n",
    "for i in range(0, len(mndbiMT_array)):\n",
    "    if mndbiMT_array[i] == esa_array[i]:\n",
    "        equal += 1\n",
    "print(f\"MNDBI Manual Threshold: {(equal/len(mndbiMT_array)*100):.2f}% accuracy\")"
   ]
  },
  {
   "cell_type": "markdown",
   "id": "3ba94b54",
   "metadata": {},
   "source": [
    "### IBI Threshold"
   ]
  },
  {
   "cell_type": "code",
   "execution_count": 112,
   "id": "3b9ebe69",
   "metadata": {},
   "outputs": [],
   "source": [
    "ibiATO_array = img2array1D(ibi2020_ATO, \"IBI\")\n",
    "ibiATL_array = img2array1D(ibi2020_ATL, \"IBI\")\n",
    "ibiMT_array = img2array1D(ibi2020_MT, \"IBI\")"
   ]
  },
  {
   "cell_type": "code",
   "execution_count": 113,
   "id": "f78cb0b5",
   "metadata": {},
   "outputs": [
    {
     "name": "stdout",
     "output_type": "stream",
     "text": [
      "IBI Otsu Threshold: 39.38% accuracy\n"
     ]
    }
   ],
   "source": [
    "equal = 0\n",
    "for i in range(0, len(ibiATO_array)):\n",
    "    if ibiATO_array[i] == esa_array[i]:\n",
    "        equal += 1\n",
    "print(f\"IBI Otsu Threshold: {(equal/len(ibiATO_array)*100):.2f}% accuracy\")"
   ]
  },
  {
   "cell_type": "code",
   "execution_count": 114,
   "id": "8cc37ae5",
   "metadata": {},
   "outputs": [
    {
     "name": "stdout",
     "output_type": "stream",
     "text": [
      "IBI Li Threshold: 38.79% accuracy\n"
     ]
    }
   ],
   "source": [
    "equal = 0\n",
    "\n",
    "for i in range(0, len(ibiATL_array)):\n",
    "    if ibiATL_array[i] == esa_array[i]:\n",
    "        equal += 1\n",
    "print(f\"IBI Li Threshold: {(equal/len(ibiATL_array)*100):.2f}% accuracy\")"
   ]
  },
  {
   "cell_type": "code",
   "execution_count": 115,
   "id": "bebc3bc5",
   "metadata": {
    "scrolled": true
   },
   "outputs": [
    {
     "name": "stdout",
     "output_type": "stream",
     "text": [
      "IBI Manual Threshold: 50.54% accuracy\n"
     ]
    }
   ],
   "source": [
    "equal = 0\n",
    "\n",
    "for i in range(0, len(ibiMT_array)):\n",
    "    if ibiMT_array[i] == esa_array[i]:\n",
    "        equal += 1\n",
    "print(f\"IBI Manual Threshold: {(equal/len(ibiMT_array)*100):.2f}% accuracy\")"
   ]
  },
  {
   "cell_type": "markdown",
   "id": "3ffd378e",
   "metadata": {},
   "source": [
    "### Get another map for ENDISI and PISI"
   ]
  },
  {
   "cell_type": "code",
   "execution_count": 116,
   "id": "484cc5d1",
   "metadata": {
    "scrolled": false
   },
   "outputs": [
    {
     "data": {
      "application/vnd.jupyter.widget-view+json": {
       "model_id": "c71953819e0e4d1fb8b332ad344b9e97",
       "version_major": 2,
       "version_minor": 0
      },
      "text/plain": [
       "Map(center=[8.9801, 38.7805], controls=(WidgetControl(options=['position', 'transparent_bg'], widget=HBox(chil…"
      ]
     },
     "metadata": {},
     "output_type": "display_data"
    }
   ],
   "source": [
    "# Get basemap layer and set it to Addis Ababa\n",
    "map2 = geemap.Map(center=(8.9801, 38.7805), zoom=11)\n",
    "map2"
   ]
  },
  {
   "cell_type": "code",
   "execution_count": 184,
   "id": "a9cb192d",
   "metadata": {},
   "outputs": [],
   "source": [
    "png_file = os.path.join(download_dir, 'endisi_mt.png')\n",
    "map.to_image(filename=png_file, monitor=2)"
   ]
  },
  {
   "cell_type": "code",
   "execution_count": 178,
   "id": "42189897",
   "metadata": {},
   "outputs": [],
   "source": [
    "map2.addLayer(esa_img, {}, \"ESA Reproject\")\n",
    "\n",
    "map2.addLayer(endisi2020_ATO, ATO_visuals, \"ENDISI 2020 ATO\")\n",
    "map2.addLayer(endisi2020_ATL, ATL_visuals, \"ENDISI 2020 ATL\")\n",
    "map2.addLayer(endisi2020_MT, MT_visuals, \"ENDISI 2020 MT\")\n",
    "\n",
    "map2.addLayer(pisi2020_ATO, ATO_visuals, \"PISI 2020 ATO\")\n",
    "map2.addLayer(pisi2020_ATL, ATL_visuals, \"PISI 2020 ATL\")\n",
    "map2.addLayer(pisi2020_MT, MT_visuals, \"pisi 2020 MT\")"
   ]
  },
  {
   "cell_type": "markdown",
   "id": "1dc0eb07",
   "metadata": {},
   "source": [
    "### ENDISI Threshold"
   ]
  },
  {
   "cell_type": "code",
   "execution_count": 118,
   "id": "860426f1",
   "metadata": {},
   "outputs": [],
   "source": [
    "endisiATO_array = img2array1D(endisi2020_ATO, \"ENDISI\")\n",
    "endisiATL_array = img2array1D(endisi2020_ATL, \"ENDISI\")\n",
    "endisiMT_array = img2array1D(endisi2020_MT, \"ENDISI\")"
   ]
  },
  {
   "cell_type": "code",
   "execution_count": 119,
   "id": "cb9dca93",
   "metadata": {},
   "outputs": [
    {
     "name": "stdout",
     "output_type": "stream",
     "text": [
      "Endisi Otsu Threshold: 46.93% accuracy\n"
     ]
    }
   ],
   "source": [
    "equal = 0\n",
    "for i in range(0, len(endisiATO_array)):\n",
    "    if endisiATO_array[i] == esa_array[i]:\n",
    "        equal += 1\n",
    "print(f\"Endisi Otsu Threshold: {(equal/len(endisiATO_array)*100):.2f}% accuracy\")"
   ]
  },
  {
   "cell_type": "code",
   "execution_count": 120,
   "id": "c279fb4c",
   "metadata": {},
   "outputs": [
    {
     "name": "stdout",
     "output_type": "stream",
     "text": [
      "Endisi Li Threshold: 42.84% accuracy\n"
     ]
    }
   ],
   "source": [
    "equal = 0\n",
    "\n",
    "for i in range(0, len(endisiATL_array)):\n",
    "    if endisiATL_array[i] == esa_array[i]:\n",
    "        equal += 1\n",
    "print(f\"Endisi Li Threshold: {(equal/len(endisiATL_array)*100):.2f}% accuracy\")"
   ]
  },
  {
   "cell_type": "code",
   "execution_count": 121,
   "id": "e719f7e5",
   "metadata": {},
   "outputs": [
    {
     "name": "stdout",
     "output_type": "stream",
     "text": [
      "Endisi Manual Threshold: 62.35% accuracy\n"
     ]
    }
   ],
   "source": [
    "equal = 0\n",
    "\n",
    "for i in range(0, len(endisiMT_array)):\n",
    "    if endisiMT_array[i] == esa_array[i]:\n",
    "        equal += 1\n",
    "print(f\"Endisi Manual Threshold: {(equal/len(endisiMT_array)*100):.2f}% accuracy\")"
   ]
  },
  {
   "cell_type": "markdown",
   "id": "4e95b3c6",
   "metadata": {},
   "source": [
    "### PISI Threshold"
   ]
  },
  {
   "cell_type": "code",
   "execution_count": 132,
   "id": "d49ed2ab",
   "metadata": {},
   "outputs": [],
   "source": [
    "pisiATO_array = img2array1D(pisi2020_ATO, \"PISI\")\n",
    "pisiATL_array = img2array1D(pisi2020_ATL, \"PISI\")\n",
    "pisiMT_array = img2array1D(pisi2020_MT, \"PISI\")"
   ]
  },
  {
   "cell_type": "code",
   "execution_count": 123,
   "id": "000d305c",
   "metadata": {},
   "outputs": [
    {
     "name": "stdout",
     "output_type": "stream",
     "text": [
      "Endisi Otsu Threshold: 48.71% accuracy\n"
     ]
    }
   ],
   "source": [
    "equal = 0\n",
    "for i in range(0, len(pisiATO_array)):\n",
    "    if pisiATO_array[i] == esa_array[i]:\n",
    "        equal += 1\n",
    "print(f\"Endisi Otsu Threshold: {(equal/len(pisiATO_array)*100):.2f}% accuracy\")"
   ]
  },
  {
   "cell_type": "code",
   "execution_count": 124,
   "id": "72e56741",
   "metadata": {},
   "outputs": [
    {
     "name": "stdout",
     "output_type": "stream",
     "text": [
      "Endisi Li Threshold: 47.91% accuracy\n"
     ]
    }
   ],
   "source": [
    "equal = 0\n",
    "\n",
    "for i in range(0, len(pisiATL_array)):\n",
    "    if pisiATL_array[i] == esa_array[i]:\n",
    "        equal += 1\n",
    "print(f\"Endisi Li Threshold: {(equal/len(pisiATL_array)*100):.2f}% accuracy\")"
   ]
  },
  {
   "cell_type": "code",
   "execution_count": 141,
   "id": "d57581ab",
   "metadata": {},
   "outputs": [
    {
     "name": "stdout",
     "output_type": "stream",
     "text": [
      "PISI Manual Threshold: 60.38% accuracy\n"
     ]
    }
   ],
   "source": [
    "equal = 0\n",
    "\n",
    "for i in range(0, len(pisiMT_array)):\n",
    "    if pisiMT_array[i] == esa_array[i]:\n",
    "        equal += 1\n",
    "print(f\"PISI Manual Threshold: {(equal/len(pisiMT_array)*100):.2f}% accuracy\")"
   ]
  },
  {
   "cell_type": "code",
   "execution_count": null,
   "id": "12d3bb94",
   "metadata": {
    "scrolled": true
   },
   "outputs": [],
   "source": [
    "# list_of_bands = [\"NDBI\", \"MNDBI\", \"IBI\", \"ENDISI\", \"PISI\"]\n",
    "# label = 'built'\n",
    "# scaleFactor=30\n",
    "\n",
    "# points = ghsl_img.sample(**{\"region\":addis_bndry, \"scale\":scaleFactor,\"seed\":0,'geometries':True})\n",
    "\n",
    "# data = y_2015.select(list_of_bands).sampleRegions(collection=points, properties=[label], scale=scaleFactor)\n",
    "\n",
    "# data.aggregate_stats(label).getInfo()"
   ]
  },
  {
   "cell_type": "code",
   "execution_count": null,
   "id": "6a6b2743",
   "metadata": {},
   "outputs": [],
   "source": [
    "# # reproject to Landsat\n",
    "# LS_projection = y_2015.projection().getInfo()['crs']\n",
    "# old_scale = ghsl_img.projection().nominalScale().getInfo()\n",
    "# ghsl = ghsl_img.resample('bicubic').reproject(crs=LS_projection, scale=30)\n",
    "# new_scale = ghsl.projection().nominalScale().getInfo()\n",
    "\n",
    "# print(f\"Original GHSL scale: {old_scale}, Reprojected Scale: {new_scale}\")"
   ]
  },
  {
   "cell_type": "markdown",
   "id": "878901e7",
   "metadata": {},
   "source": [
    "### Calculate the area"
   ]
  },
  {
   "cell_type": "code",
   "execution_count": 185,
   "id": "e4ec629b",
   "metadata": {},
   "outputs": [],
   "source": [
    "def area(index):\n",
    "    self_mask = index.selfMask()\n",
    "    vector = self_mask.reduceToVectors(geometry=addis_bndry, scale=30, maxPixels=60000000)\n",
    "    area = vector.geometry().area(1).divide(1e6).round().getInfo()\n",
    "    return area\n",
    "\n",
    "esa_area = area(esa_img)\n",
    "\n",
    "pisi_2020_area = area(pisi2020_MT)\n"
   ]
  },
  {
   "cell_type": "code",
   "execution_count": 145,
   "id": "9494b215",
   "metadata": {},
   "outputs": [
    {
     "data": {
      "text/plain": [
       "166"
      ]
     },
     "execution_count": 145,
     "metadata": {},
     "output_type": "execute_result"
    }
   ],
   "source": [
    "esa_area"
   ]
  },
  {
   "cell_type": "code",
   "execution_count": 186,
   "id": "ce8105f0",
   "metadata": {},
   "outputs": [
    {
     "data": {
      "text/plain": [
       "115"
      ]
     },
     "execution_count": 186,
     "metadata": {},
     "output_type": "execute_result"
    }
   ],
   "source": [
    "pisi_2020_area"
   ]
  },
  {
   "cell_type": "code",
   "execution_count": 190,
   "id": "7cf0e8da",
   "metadata": {},
   "outputs": [],
   "source": [
    "### For downloading the images\n",
    "\n",
    "# download_dir = os.path.join(os.path.expanduser('~'), 'Downloads')\n",
    "# png_file = os.path.join(download_dir, 'ndbi_mt.png')\n",
    "# map.to_image(filename=png_file, monitor=2)"
   ]
  }
 ],
 "metadata": {
  "kernelspec": {
   "display_name": "Python 3 (ipykernel)",
   "language": "python",
   "name": "python3"
  },
  "language_info": {
   "codemirror_mode": {
    "name": "ipython",
    "version": 3
   },
   "file_extension": ".py",
   "mimetype": "text/x-python",
   "name": "python",
   "nbconvert_exporter": "python",
   "pygments_lexer": "ipython3",
   "version": "3.8.13"
  }
 },
 "nbformat": 4,
 "nbformat_minor": 5
}
