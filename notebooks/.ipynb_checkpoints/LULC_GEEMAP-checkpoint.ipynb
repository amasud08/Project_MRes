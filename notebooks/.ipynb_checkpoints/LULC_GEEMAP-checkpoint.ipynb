{
 "cells": [
  {
   "cell_type": "markdown",
   "id": "7b77940c",
   "metadata": {},
   "source": [
    "# LULC in Addis Ababa (1991-2021)"
   ]
  },
  {
   "cell_type": "markdown",
   "id": "6de6ab09",
   "metadata": {},
   "source": [
    "### Import Libraries"
   ]
  },
  {
   "cell_type": "code",
   "execution_count": 1,
   "id": "61418310",
   "metadata": {},
   "outputs": [],
   "source": [
    "import os\n",
    "import ee\n",
    "import geemap\n",
    "import pandas as pd\n",
    "import numpy as np\n",
    "import datetime\n",
    "import matplotlib.pyplot as plt\n",
    "%matplotlib inline\n",
    "import geemap.chart as chart\n",
    "import ipygee as ui\n",
    "from skimage.filters import threshold_otsu\n",
    "\n",
    "\n",
    "import warnings\n",
    "warnings.filterwarnings('ignore')"
   ]
  },
  {
   "cell_type": "code",
   "execution_count": null,
   "id": "514ac6f3",
   "metadata": {},
   "outputs": [],
   "source": [
    "# ! pip install ipygee\n",
    "# ! pip install scikit-image"
   ]
  },
  {
   "cell_type": "code",
   "execution_count": null,
   "id": "f35ebd8b",
   "metadata": {},
   "outputs": [],
   "source": [
    "# Double check your working directory (should be set to the correct folder if done through anaconda prompt)\n",
    "%pwd\n",
    "# %cd C:\\\\Users\\\\c1032379\\\\OneDrive - Newcastle University\\\\10_Research_Project\\\\Project_MRes\\\\notebooks"
   ]
  },
  {
   "cell_type": "markdown",
   "id": "2017ccc4",
   "metadata": {},
   "source": [
    "### Create a map and specify it to Addis Ababa"
   ]
  },
  {
   "cell_type": "code",
   "execution_count": 2,
   "id": "b3d784b6",
   "metadata": {},
   "outputs": [
    {
     "data": {
      "application/vnd.jupyter.widget-view+json": {
       "model_id": "9e4989774f0f48b7b2876fe15baa25ac",
       "version_major": 2,
       "version_minor": 0
      },
      "text/plain": [
       "Map(center=[8.9801, 38.7805], controls=(WidgetControl(options=['position', 'transparent_bg'], widget=HBox(chil…"
      ]
     },
     "metadata": {},
     "output_type": "display_data"
    }
   ],
   "source": [
    "# Get basemap layer and set it to Addis Ababa\n",
    "map = geemap.Map(center=(8.9801, 38.7805), zoom=11)\n",
    "map"
   ]
  },
  {
   "cell_type": "markdown",
   "id": "67e1212a",
   "metadata": {},
   "source": [
    "### Obtain and visualise Landsat 5, 7 and 8 data between 1991 and 2001"
   ]
  },
  {
   "cell_type": "markdown",
   "id": "7e2b7a7d",
   "metadata": {},
   "source": [
    "**Bands**\n",
    "\n",
    "**Landsat 8** - 5 (NIR), 6 (SWIR1), 7 (SWIR2)\n",
    "\n",
    "**Landsat 7** - 4 (NIR), 5(SWIR), 7 (MIR)\n",
    "\n",
    "**Landsat 5** - 4 (NIR), 5 (NIR), 7 (MIR)\n",
    "\n",
    "Bands renamed to: \"Blue\", \"Green\", \"Red\", \"NIR\", \"SWIR1\", \"SWIR2\""
   ]
  },
  {
   "cell_type": "code",
   "execution_count": 3,
   "id": "4efccd48",
   "metadata": {},
   "outputs": [],
   "source": [
    "# Get Addis boundary shapefile from human data exchange website\n",
    "addis_shpfile = \"C:/Users/c1032379/OneDrive - Newcastle University/10_Research_Project/Project_MRes/data/input_data/admin_boundaries/addis_bndry_py_hdx_2021.shp\"\n",
    "addis_bndry = geemap.shp_to_ee(addis_shpfile)\n",
    "map.addLayer(addis_bndry, {}, 'Addis Boundary')"
   ]
  },
  {
   "cell_type": "code",
   "execution_count": 4,
   "id": "d6e9a26a",
   "metadata": {},
   "outputs": [],
   "source": [
    "# Area of interest covering Addis Ababa\n",
    "aoi = ee.Geometry.Point([38.7805, 8.9801])\n",
    "\n",
    "# Data required\n",
    "LS_8 = \"LANDSAT/LC08/C02/T1_L2\"\n",
    "LS_7 = \"LANDSAT/LE07/C02/T1_L2\"\n",
    "LS_5 = \"LANDSAT/LT05/C02/T1_L2\"\n",
    "\n",
    "# # Set date filters\n",
    "start = ee.Date('1991-01-01')\n",
    "date_today = datetime.date.today().strftime('%Y-%m-%d')\n",
    "end = ee.Date(date_today)\n",
    "\n",
    "\n",
    "# # Setup variables to get dates.\n",
    "# startYear = 1991\n",
    "# endYear = 2021\n",
    "# startMonth = 10\n",
    "# startDay = 1\n",
    "# nDays = 151\n",
    "\n",
    "# startDate = ee.Date.fromYMD(ee.Number(startYear), ee.Number(startMonth), ee.Number(startDay))\n",
    "# endDate = startDate.advance(ee.Number(nDays), 'day')\n",
    "\n",
    "# set other filters \n",
    "cloud = ee.Filter.lt(\"CLOUD_COVER\", 5)\n",
    "season = ee.Filter.calendarRange(10, 2, 'month')\n",
    "order = \"system:time_start\"\n",
    "\n",
    "# Filter the collection\n",
    "def filter_cltn(cltn, aoi, cloud, startDate, endDate, season, order):\n",
    "    return ee.ImageCollection(cltn)\\\n",
    "    .filterBounds(aoi)\\\n",
    "    .filter(cloud)\\\n",
    "    .filterDate(startDate, endDate)\\\n",
    "    .filter(season)\\\n",
    "    .sort(order)\\\n",
    "    .map(lambda image: image.unmask(-9999).clip(addis_bndry))\n",
    "\n",
    "# # Filter the collection\n",
    "# def filter_cltn(cltn, aoi, cloud, start, end, order):\n",
    "#     return ee.ImageCollection(cltn)\\\n",
    "#     .filterBounds(aoi)\\\n",
    "#     .filter(cloud)\\\n",
    "#     .filter(d_range)\\\n",
    "#     .sort(order)\\\n",
    "#     .map(lambda image: image.clip(addis_bndry))\n",
    "\n",
    "# good examples of functions here that I can use - https://www.programcreek.com/python/example/95818/ee.ImageCollection"
   ]
  },
  {
   "cell_type": "markdown",
   "id": "cda57977",
   "metadata": {},
   "source": [
    "### Apply pre-processing methods to the data before merging"
   ]
  },
  {
   "cell_type": "code",
   "execution_count": 5,
   "id": "37ca1f9b",
   "metadata": {},
   "outputs": [],
   "source": [
    "# Code obtained from a combination of https://github.com/giswqs/geemap/blob/ca365d23a10dbbbb29ff3ff5cd29acc89f42d10f/geemap/timelapse.py#L2075\n",
    "# and https://gist.github.com/jdbcode/76b9ac49faf51627ebd3ff988e10adbc\n",
    "\n",
    "\n",
    "### Function to mask out clouds and apply scaling factors\n",
    "def fmask(image):\n",
    "    qaMask = image.select('QA_PIXEL').bitwiseAnd(int('11111', 2)).eq(0)\n",
    "    \n",
    "    # Apply the scaling factors to the appropriate bands.\n",
    "    opticalBands = image.select('SR_B.').multiply(0.0000275).add(-0.2)\n",
    "    thermalBands = image.select('ST_B.*').multiply(0.00341802).add(149.0)    \n",
    "\n",
    "    # Replace the original bands with the scaled ones and apply the masks.\n",
    "    return image.addBands(opticalBands, None, True).addBands(thermalBands, None, True).updateMask(qaMask)\n",
    "\n",
    "\n",
    "### Function to rename Landsat 5 and 7 bands. \n",
    "def Bands_L5_L7(L5_L7imgs):\n",
    "    return L5_L7imgs.select(\n",
    "        [\"SR_B1\", \"SR_B2\", \"SR_B3\", \"SR_B4\", \"SR_B5\", \"SR_B7\"],\n",
    "        [\"Blue\", \"Green\", \"Red\", \"NIR\", \"SWIR1\", \"SWIR2\"],\n",
    "    )\n",
    "\n",
    "\n",
    "### Function to rename Landsat 5 and 7 bands. \n",
    "def Bands_L8(L8imgs):\n",
    "    return L8imgs.select(\n",
    "        [\"SR_B2\", \"SR_B3\", \"SR_B4\", \"SR_B5\", \"SR_B6\", \"SR_B7\"],\n",
    "        [\"Blue\", \"Green\", \"Red\", \"NIR\", \"SWIR1\", \"SWIR2\"],\n",
    "    )\n",
    "\n",
    "### Functions to prepare and resample Landsat 5, 7 and 8 imagery.\n",
    "def prepL8(img):\n",
    "    orig = img\n",
    "    img = fmask(img)\n",
    "    img = Bands_L8(img)\n",
    "    return ee.Image(img.copyProperties(orig, orig.propertyNames())).resample(\"bicubic\")\n",
    "\n",
    "def prep_L5L7(img):\n",
    "    orig = img\n",
    "    img = fmask(img)\n",
    "    img = Bands_L5_L7(img)\n",
    "    return ee.Image(img.copyProperties(orig, orig.propertyNames())).resample(\"bicubic\")"
   ]
  },
  {
   "cell_type": "markdown",
   "id": "90b83b66",
   "metadata": {},
   "source": [
    "### Visualise the data"
   ]
  },
  {
   "cell_type": "code",
   "execution_count": 6,
   "id": "339bbb02",
   "metadata": {},
   "outputs": [],
   "source": [
    "# Set visual parameters\n",
    "vis_params = {\"min\": 0, \"max\": 0.4,  \"gamma\": 1.2, \"bands\": [\"NIR\", \"SWIR1\", \"SWIR2\"]}"
   ]
  },
  {
   "cell_type": "code",
   "execution_count": 7,
   "id": "3c3c2e7a",
   "metadata": {
    "scrolled": true
   },
   "outputs": [],
   "source": [
    "# Landsat 8 - Run functions with date filters and pre-processing methods\n",
    "Landsat_8 = filter_cltn(LS_8, aoi, cloud, start, end, season, order).map(prepL8)\n",
    "map.addLayer(Landsat_8, vis_params, \"Landsat 8\")"
   ]
  },
  {
   "cell_type": "code",
   "execution_count": 8,
   "id": "4f76d1f9",
   "metadata": {},
   "outputs": [],
   "source": [
    "# Landsat 7 - Run functions with date filters, pre-processing methods and gap filling information\n",
    "Landsat_7 = filter_cltn(LS_7, aoi, cloud, start, end, season, order).map(prep_L5L7)\n",
    "map.addLayer(Landsat_7, vis_params, \"Landsat 7\")"
   ]
  },
  {
   "cell_type": "code",
   "execution_count": 9,
   "id": "e92946d5",
   "metadata": {},
   "outputs": [],
   "source": [
    "# Landsat 5 - Run functions with date filters and pre-processing methods\n",
    "Landsat_5 = filter_cltn(LS_5, aoi, cloud, start, end, season, order).map(prep_L5L7)\n",
    "map.addLayer(Landsat_5, vis_params, \"Landsat 5\")"
   ]
  },
  {
   "cell_type": "markdown",
   "id": "8383feba",
   "metadata": {},
   "source": [
    "### Information of collected images"
   ]
  },
  {
   "cell_type": "code",
   "execution_count": null,
   "id": "3a9a1d68",
   "metadata": {},
   "outputs": [],
   "source": [
    "# number of images in the collection. \n",
    "\n",
    "print(f\"Landsat 8 = {Landsat_8.size().getInfo()} images, Landsat 7 = {Landsat_7.size().getInfo()} images, Landsat 5 = {Landsat_5.size().getInfo()} images\")"
   ]
  },
  {
   "cell_type": "code",
   "execution_count": null,
   "id": "97d070b4",
   "metadata": {},
   "outputs": [],
   "source": [
    "# get the dates and times each image was obtained in the collection\n",
    "\n",
    "def cltn_dates(cltn):\n",
    "    return geemap.image_dates(cltn, date_format='YYYY-MM-dd HH:mm').getInfo()\n",
    "\n",
    "l8_dates = cltn_dates(Landsat_8)\n",
    "l7_dates = cltn_dates(Landsat_7)\n",
    "l5_dates = cltn_dates(Landsat_5)\n",
    "\n",
    "dates = pd.DataFrame({\"Landsat 8\": pd.Series(l8_dates), \"Landsat 7\": pd.Series(l7_dates), \"Landsat 5\": pd.Series(l5_dates)})\n",
    "\n",
    "with pd.option_context('display.max_rows', None):\n",
    "    display(dates)"
   ]
  },
  {
   "cell_type": "code",
   "execution_count": null,
   "id": "50508d4f",
   "metadata": {
    "scrolled": true
   },
   "outputs": [],
   "source": [
    "# Get the properties of the first image\n",
    "\n",
    "def first_image(img):\n",
    "    first = img.first()\n",
    "    first_props = geemap.image_props(first).getInfo()\n",
    "    return first_props\n",
    "\n",
    "l8_image = first_image(Landsat_8)\n",
    "l7_image = first_image(Landsat_7)\n",
    "l5_image = first_image(Landsat_5)\n",
    "\n",
    "props_dict = dict(A = (l8_image), B = (l7_image), c = (l5_image))\n",
    "image_props = pd.DataFrame(dict([ (k,pd.Series(v)) for k,v in props_dict.items() ]))\n",
    "\n",
    "with pd.option_context('display.max_rows', None):\n",
    "    display(image_props)"
   ]
  },
  {
   "cell_type": "code",
   "execution_count": null,
   "id": "0eec41bc",
   "metadata": {},
   "outputs": [],
   "source": [
    "# get cloud cover information and double check less than amount specified\n",
    "def cloud_cover(img):\n",
    "    cc = img.aggregate_array(\"CLOUD_COVER\").getInfo()\n",
    "    return cc\n",
    "\n",
    "l8_cc = cloud_cover(Landsat_8)\n",
    "l7_cc = cloud_cover(Landsat_7)\n",
    "l5_cc = cloud_cover(Landsat_5)\n",
    "\n",
    "cc_all = pd.DataFrame({\"Landsat 8\": pd.Series(l8_cc), \"Landsat 7\": pd.Series(l7_cc), \"Landsat 5\": pd.Series(l5_cc)})\n",
    "\n",
    "with pd.option_context('display.max_rows', None):\n",
    "    display(cc_all)\n",
    "    \n",
    "# l8.aggregate_array(\"system:band_names\").getInfo()"
   ]
  },
  {
   "cell_type": "markdown",
   "id": "f16d0dc3",
   "metadata": {},
   "source": [
    "### Add indices"
   ]
  },
  {
   "cell_type": "code",
   "execution_count": 10,
   "id": "a18e4bd2",
   "metadata": {},
   "outputs": [],
   "source": [
    "# Include the following indices - Normalized difference built-up index (NDBI), \n",
    "# Normalized Difference Thermal Index (NDTI) and Buildup Index (BUI)\n",
    "\n",
    "def indices(img):\n",
    "    \n",
    "    ndbi = img.normalizedDifference([\"SWIR1\", \"NIR\"]).rename('NDBI')\n",
    "    \n",
    "    ndti = img.normalizedDifference([\"SWIR1\", \"SWIR2\"]).rename('NDTI')\n",
    "    \n",
    "    mndwi = img.normalizedDifference([\"Green\", \"SWIR1\"]).rename('MNDWI')\n",
    "    \n",
    "    ndvi = img.normalizedDifference([\"NIR\", \"Red\"]).rename('NDVI')\n",
    "    \n",
    "    bui = img.expression(\"((SWIR1 - NIR / SWIR1 + NIR) - (NIR - Red / NIR + Red))\", {\n",
    "        \"SWIR1\": img.select(\"SWIR1\"),\n",
    "        \"NIR\": img.select(\"NIR\"),\n",
    "        \"Red\": img.select(\"Red\")\n",
    "    }).rename(\"BUI\")\n",
    "    \n",
    "    return  img.addBands([ndbi, ndti, mndwi, ndvi, bui])\n",
    "   "
   ]
  },
  {
   "cell_type": "code",
   "execution_count": null,
   "id": "3ecff197",
   "metadata": {},
   "outputs": [],
   "source": [
    "# # ENDISI - Code and adapted from here - https://docs.dea.ga.gov.au/notebooks/Real_world_examples/Urban_change_detection.html\n",
    "\n",
    "# def MNDWI(dataset):\n",
    "#     mndwi = img.normalizedDifference([\"Green\", \"SWIR1\"]).rename('MNDWI')\n",
    "#     return img.addBands(mndwi)\n"
   ]
  },
  {
   "cell_type": "code",
   "execution_count": null,
   "id": "99fc9400",
   "metadata": {},
   "outputs": [],
   "source": [
    "# # ENDISI - Code and adapted from here - https://docs.dea.ga.gov.au/notebooks/Real_world_examples/Urban_change_detection.html\n",
    "\n",
    "# def MNDWI(dataset):\n",
    "#     return calculate_indices(dataset, index='MNDWI', collection='ga_ls_3').MNDWI\n",
    "\n",
    "\n",
    "# def swir_diff(dataset):\n",
    "#     return dataset.swir1 / dataset.swir2\n",
    "\n",
    "\n",
    "# def alpha(dataset):\n",
    "#     return (2 * (np.mean(dataset.blue))) / (np.mean(swir_diff(dataset)) +\n",
    "#                                             np.mean(MNDWI(dataset)**2))\n",
    "\n",
    "\n",
    "# def ENDISI(dataset):\n",
    "#     mndwi = MNDWI(dataset)\n",
    "#     swir_diff_ds = swir_diff(dataset)\n",
    "#     alpha_ds = alpha(dataset)\n",
    "#     return (dataset.blue - (alpha_ds) *\n",
    "#             (swir_diff_ds + mndwi**2)) / (dataset.blue + (alpha_ds) *\n",
    "#                                        (swir_diff_ds + mndwi**2))\n",
    "\n",
    "# # Calculate the ENDISI index\n",
    "# geomedians['ENDISI'] = ENDISI(geomedians)"
   ]
  },
  {
   "cell_type": "markdown",
   "id": "0dd2a825",
   "metadata": {},
   "source": [
    "### Merge collection and get a sequence"
   ]
  },
  {
   "cell_type": "code",
   "execution_count": null,
   "id": "3d744575",
   "metadata": {},
   "outputs": [],
   "source": [
    "# Setup vars to get dates.\n",
    "startYear = 1991\n",
    "endYear = 2021\n",
    "startMonth = 10\n",
    "startDay = 1\n",
    "nDays = 151\n",
    "\n",
    "# Get annual median collection.    \n",
    "def getAnnualComp(y):\n",
    "    startDate = ee.Date.fromYMD(\n",
    "    ee.Number(y), ee.Number(startMonth), ee.Number(startDay))\n",
    "    endDate = startDate.advance(ee.Number(nDays), 'day')\n",
    "\n",
    "    # Filter collections and prepare them for merging.\n",
    "    t_LC08coly = filter_cltn(LS_8, aoi, cloud, startDate, endDate, season, order).map(prepL8)\n",
    "    t_LE07coly = filter_cltn(LS_7, aoi, cloud, startDate, endDate, season, order).map(prep_L5L7)\n",
    "    t_LT05coly = filter_cltn(LS_5, aoi, cloud, startDate, endDate, season, order).map(prep_L5L7)\n",
    "\n",
    "    # Merge the collections.\n",
    "    col = t_LC08coly.merge(t_LE07coly).merge(t_LT05coly)\n",
    "    \n",
    "    \n",
    "    \n",
    "    yearImg = col.median()\n",
    "    nBands = yearImg.bandNames().size()\n",
    "    yearImg = ee.Image(ee.Algorithms.If(\n",
    "        nBands,\n",
    "        yearImg,\n",
    "        dummyImg))\n",
    "    return(indices(yearImg)\n",
    "           .set({'year': y, 'system:time_start': startDate.millis(), 'nBands': nBands}))\n",
    "\n",
    "# # Make a dummy image for missing years.\n",
    "bandNames = ee.List(['Blue', 'Green', 'Red', 'NIR', 'SWIR1', 'SWIR2'])\n",
    "fillerValues = ee.List.repeat(0, bandNames.size())\n",
    "dummyImg = ee.Image.constant(fillerValues).rename(bandNames).selfMask().int16()\n",
    "\n",
    "# Get a list of years\n",
    "years = ee.List.sequence(startYear, endYear)\n",
    "\n",
    "# Make list of annual image composites.\n",
    "imgList = years.map(getAnnualComp)\n",
    "\n",
    "# Convert image composite list to collection\n",
    "imgCol = ee.ImageCollection.fromImages(imgList)\n",
    "\n",
    "# cltn_dates(imgCol[0])\n",
    "first_collated = imgCol.first()\n",
    "first_collated.getInfo()"
   ]
  },
  {
   "cell_type": "code",
   "execution_count": 11,
   "id": "6030c971",
   "metadata": {
    "scrolled": true
   },
   "outputs": [
    {
     "data": {
      "text/plain": [
       "{'type': 'Image',\n",
       " 'bands': [{'id': 'Blue',\n",
       "   'data_type': {'type': 'PixelType',\n",
       "    'precision': 'double',\n",
       "    'min': -0.4749725,\n",
       "    'max': 1.6022125},\n",
       "   'crs': 'EPSG:4326',\n",
       "   'crs_transform': [1, 0, 0, 0, 1, 0]},\n",
       "  {'id': 'Green',\n",
       "   'data_type': {'type': 'PixelType',\n",
       "    'precision': 'double',\n",
       "    'min': -0.4749725,\n",
       "    'max': 1.6022125},\n",
       "   'crs': 'EPSG:4326',\n",
       "   'crs_transform': [1, 0, 0, 0, 1, 0]},\n",
       "  {'id': 'Red',\n",
       "   'data_type': {'type': 'PixelType',\n",
       "    'precision': 'double',\n",
       "    'min': -0.4749725,\n",
       "    'max': 1.6022125},\n",
       "   'crs': 'EPSG:4326',\n",
       "   'crs_transform': [1, 0, 0, 0, 1, 0]},\n",
       "  {'id': 'NIR',\n",
       "   'data_type': {'type': 'PixelType',\n",
       "    'precision': 'double',\n",
       "    'min': -0.4749725,\n",
       "    'max': 1.6022125},\n",
       "   'crs': 'EPSG:4326',\n",
       "   'crs_transform': [1, 0, 0, 0, 1, 0]},\n",
       "  {'id': 'SWIR1',\n",
       "   'data_type': {'type': 'PixelType',\n",
       "    'precision': 'double',\n",
       "    'min': -0.4749725,\n",
       "    'max': 1.6022125},\n",
       "   'crs': 'EPSG:4326',\n",
       "   'crs_transform': [1, 0, 0, 0, 1, 0]},\n",
       "  {'id': 'SWIR2',\n",
       "   'data_type': {'type': 'PixelType',\n",
       "    'precision': 'double',\n",
       "    'min': -0.4749725,\n",
       "    'max': 1.6022125},\n",
       "   'crs': 'EPSG:4326',\n",
       "   'crs_transform': [1, 0, 0, 0, 1, 0]},\n",
       "  {'id': 'NDBI',\n",
       "   'data_type': {'type': 'PixelType',\n",
       "    'precision': 'float',\n",
       "    'min': -1,\n",
       "    'max': 1},\n",
       "   'crs': 'EPSG:4326',\n",
       "   'crs_transform': [1, 0, 0, 0, 1, 0]},\n",
       "  {'id': 'NDTI',\n",
       "   'data_type': {'type': 'PixelType',\n",
       "    'precision': 'float',\n",
       "    'min': -1,\n",
       "    'max': 1},\n",
       "   'crs': 'EPSG:4326',\n",
       "   'crs_transform': [1, 0, 0, 0, 1, 0]},\n",
       "  {'id': 'MNDWI',\n",
       "   'data_type': {'type': 'PixelType',\n",
       "    'precision': 'float',\n",
       "    'min': -1,\n",
       "    'max': 1},\n",
       "   'crs': 'EPSG:4326',\n",
       "   'crs_transform': [1, 0, 0, 0, 1, 0]},\n",
       "  {'id': 'NDVI',\n",
       "   'data_type': {'type': 'PixelType',\n",
       "    'precision': 'float',\n",
       "    'min': -1,\n",
       "    'max': 1},\n",
       "   'crs': 'EPSG:4326',\n",
       "   'crs_transform': [1, 0, 0, 0, 1, 0]},\n",
       "  {'id': 'BUI',\n",
       "   'data_type': {'type': 'PixelType', 'precision': 'double'},\n",
       "   'crs': 'EPSG:4326',\n",
       "   'crs_transform': [1, 0, 0, 0, 1, 0]}],\n",
       " 'properties': {'system:time_start': 686275200000,\n",
       "  'nBands': 6,\n",
       "  'year': 1991,\n",
       "  'system:index': '0'}}"
      ]
     },
     "execution_count": 11,
     "metadata": {},
     "output_type": "execute_result"
    }
   ],
   "source": [
    "# Setup vars to get dates.\n",
    "startYear = 1991\n",
    "endYear = 2021\n",
    "startMonth = 10\n",
    "startDay = 1\n",
    "nDays = 151\n",
    "\n",
    "# Get annual median collection.    \n",
    "def getAnnualComp(y):\n",
    "    startDate = ee.Date.fromYMD(\n",
    "    ee.Number(y), ee.Number(startMonth), ee.Number(startDay))\n",
    "    endDate = startDate.advance(ee.Number(nDays), 'day')\n",
    "\n",
    "    # Filter collections and prepare them for merging.\n",
    "    t_LC08coly = filter_cltn(LS_8, aoi, cloud, startDate, endDate, season, order).map(prepL8)\n",
    "    t_LE07coly = filter_cltn(LS_7, aoi, cloud, startDate, endDate, season, order).map(prep_L5L7)\n",
    "    t_LT05coly = filter_cltn(LS_5, aoi, cloud, startDate, endDate, season, order).map(prep_L5L7)\n",
    "    \n",
    "\n",
    "    # Merge the collections.\n",
    "    col = t_LC08coly.merge(t_LE07coly).merge(t_LT05coly)\n",
    "    \n",
    "    \n",
    "    yearImg = col.median()\n",
    "    nBands = yearImg.bandNames().size()\n",
    "    yearImg = ee.Image(ee.Algorithms.If(\n",
    "        nBands,\n",
    "        yearImg,\n",
    "        dummyImg))\n",
    "    return(indices(yearImg)\n",
    "           .set({'year': y, 'system:time_start': startDate.millis(), 'nBands': nBands}))\n",
    "\n",
    "# # Make a dummy image for missing years.\n",
    "bandNames = ee.List(['Blue', 'Green', 'Red', 'NIR', 'SWIR1', 'SWIR2'])\n",
    "fillerValues = ee.List.repeat(0, bandNames.size())\n",
    "dummyImg = ee.Image.constant(fillerValues).rename(bandNames).selfMask().int16()\n",
    "\n",
    "# Get a list of years\n",
    "years = ee.List.sequence(startYear, endYear)\n",
    "\n",
    "# Make list of annual image composites.\n",
    "imgList = years.map(getAnnualComp)\n",
    "\n",
    "# Convert image composite list to collection\n",
    "imgCol = ee.ImageCollection.fromImages(imgList)\n",
    "\n",
    "# cltn_dates(imgCol[0])\n",
    "first_collated = imgCol.first()\n",
    "first_collated.getInfo()"
   ]
  },
  {
   "cell_type": "code",
   "execution_count": null,
   "id": "70ac02c3",
   "metadata": {
    "scrolled": false
   },
   "outputs": [],
   "source": [
    "dates = imgCol.aggregate_array('system:time_start').map(lambda d: ee.Date(d).format('YYYY-MM-dd'))\n",
    "landsat_dates = dates.getInfo()\n",
    "print(landsat_dates)"
   ]
  },
  {
   "cell_type": "code",
   "execution_count": null,
   "id": "dfa4f8ec",
   "metadata": {
    "scrolled": true
   },
   "outputs": [],
   "source": [
    "size = imgList.size().getInfo()\n",
    "size"
   ]
  },
  {
   "cell_type": "code",
   "execution_count": 12,
   "id": "6e5423af",
   "metadata": {},
   "outputs": [
    {
     "name": "stdout",
     "output_type": "stream",
     "text": [
      "{'system:time_start': 686275200000, 'nBands': 6, 'year': 1991}\n",
      "{'system:time_start': 812505600000, 'nBands': 6, 'year': 1995}\n",
      "{'system:time_start': 970358400000, 'nBands': 6, 'year': 2000}\n",
      "{'system:time_start': 1128124800000, 'nBands': 6, 'year': 2005}\n",
      "{'system:time_start': 1285891200000, 'nBands': 6, 'year': 2010}\n",
      "{'system:time_start': 1443657600000, 'nBands': 6, 'year': 2015}\n",
      "{'system:time_start': 1633046400000, 'nBands': 6, 'year': 2021}\n"
     ]
    }
   ],
   "source": [
    "# yrs = ee.List([])\n",
    "\n",
    "# for i in range(31):\n",
    "#     f = ee.Image(imgList.get(i)).getInfo()[\"properties\"]\n",
    "#     yr = f.get(\"year\")\n",
    "#     yrs = yrs.add(yr)\n",
    "\n",
    "# y = yrs.getInfo()\n",
    "# print(y)\n",
    "\n",
    "# Get every 5 years\n",
    "y_1991 = ee.Image(imgList.get(0))\n",
    "y_1995 = ee.Image(imgList.get(4))\n",
    "y_2000 = ee.Image(imgList.get(9))\n",
    "y_2005 = ee.Image(imgList.get(14))\n",
    "y_2010 = ee.Image(imgList.get(19))\n",
    "y_2015 = ee.Image(imgList.get(24))\n",
    "y_2021 = ee.Image(imgList.get(30)) \n",
    "\n",
    "print(y_1991.getInfo()[\"properties\"])\n",
    "print(y_1995.getInfo()[\"properties\"])\n",
    "print(y_2000.getInfo()[\"properties\"])\n",
    "print(y_2005.getInfo()[\"properties\"])\n",
    "print(y_2010.getInfo()[\"properties\"])\n",
    "print(y_2015.getInfo()[\"properties\"])\n",
    "print(y_2021.getInfo()[\"properties\"])"
   ]
  },
  {
   "cell_type": "code",
   "execution_count": null,
   "id": "36aaa384",
   "metadata": {},
   "outputs": [],
   "source": [
    "# Just ensure that all the bands are in each image\n",
    "print(y_2000.bandNames().getInfo())"
   ]
  },
  {
   "cell_type": "code",
   "execution_count": 13,
   "id": "d685f148",
   "metadata": {},
   "outputs": [],
   "source": [
    "# View 1991 and 2021\n",
    "vis = {\"min\": 0, \"max\": 0.4,  \"gamma\": 1.2, \"bands\": [\"NIR\", \"SWIR1\", \"SWIR2\"]}\n",
    "urban_vis = {\"min\": -1, \"max\": 1,  \"bands\": [\"BUI\"], \"palette\": [\"#abd9e9\", \"#ffffbf\", \"#fdae61\", \"#d7191c\"]}\n",
    "ndbi_vis = {\"min\": -1, \"max\": 1,  \"bands\": [\"NDBI\"], \"palette\": [\"#1a9641\", \"#a6d96a\", \"#ffffbf\", \"#fdae61\", \"#d7191c\"]}\n",
    "\n",
    "map.addLayer(y_1991, vis, \"1991\")\n",
    "map.addLayer(y_2021, vis, \"2021\")\n",
    "map.addLayer(y_1991, ndbi_vis, \"ndbi_1991\")\n",
    "map.addLayer(y_2021, ndbi_vis, \"ndbi_2021\")\n",
    "# map.addLayer(y_1991, ndbi_vis, \"ndti_1991\")\n",
    "map.addLayer(y_1991, urban_vis, \"bui_1991\")\n",
    "map.addLayer(y_2021, urban_vis, \"bui_2021\")\n"
   ]
  },
  {
   "cell_type": "code",
   "execution_count": 14,
   "id": "c69ef29c",
   "metadata": {},
   "outputs": [
    {
     "data": {
      "application/vnd.jupyter.widget-view+json": {
       "model_id": "c207187deb78477fb3b6b906dc2067ee",
       "version_major": 2,
       "version_minor": 0
      },
      "text/plain": [
       "Map(center=[8.9801, 38.7805], controls=(WidgetControl(options=['position', 'transparent_bg'], widget=Dropdown(…"
      ]
     },
     "metadata": {},
     "output_type": "display_data"
    }
   ],
   "source": [
    "# view NDBI side by side\n",
    "\n",
    "# create names for map layers\n",
    "layer_names = ['Index ' + str(year) for year in range(1991, 2022)]\n",
    "# print(layer_names)\n",
    "\n",
    "# set up geemap map inspector\n",
    "map_inspector_ndbi = geemap.Map(center=(8.9801, 38.7805), zoom=11)\n",
    "map_inspector_ndbi.ts_inspector(\n",
    "    left_ts=imgCol,\n",
    "    right_ts=imgCol,\n",
    "    left_names=layer_names,\n",
    "    right_names=layer_names,\n",
    "    left_vis=ndbi_vis,\n",
    "    right_vis=ndbi_vis,\n",
    ")\n",
    "map_inspector_ndbi "
   ]
  },
  {
   "cell_type": "code",
   "execution_count": 15,
   "id": "5160635e",
   "metadata": {},
   "outputs": [
    {
     "data": {
      "application/vnd.jupyter.widget-view+json": {
       "model_id": "c81a55fbaeee4edd9a6cbd729228e97a",
       "version_major": 2,
       "version_minor": 0
      },
      "text/plain": [
       "Map(center=[8.9801, 38.7805], controls=(WidgetControl(options=['position', 'transparent_bg'], widget=Dropdown(…"
      ]
     },
     "metadata": {},
     "output_type": "display_data"
    }
   ],
   "source": [
    "map_inspector_bui = geemap.Map(center=(8.9801, 38.7805), zoom=11)\n",
    "map_inspector_bui.ts_inspector(\n",
    "    left_ts=imgCol,\n",
    "    right_ts=imgCol,\n",
    "    left_names=layer_names,\n",
    "    right_names=layer_names,\n",
    "    left_vis= urban_vis,\n",
    "    right_vis=urban_vis,\n",
    ")\n",
    "map_inspector_bui"
   ]
  },
  {
   "cell_type": "code",
   "execution_count": 16,
   "id": "8fce54dd",
   "metadata": {},
   "outputs": [
    {
     "data": {
      "application/vnd.jupyter.widget-view+json": {
       "model_id": "d2b2b303b3624753a7198dc041dcce33",
       "version_major": 2,
       "version_minor": 0
      },
      "text/plain": [
       "Map(center=[8.9801, 38.7805], controls=(WidgetControl(options=['position', 'transparent_bg'], widget=Dropdown(…"
      ]
     },
     "metadata": {},
     "output_type": "display_data"
    }
   ],
   "source": [
    "# view MNDWI side by side\n",
    "\n",
    "# create names for map layers\n",
    "layer_names = ['Index ' + str(year) for year in range(1991, 2022)]\n",
    "# print(layer_names)\n",
    "\n",
    "# visual parameters \n",
    "Mndwi_vis = {\"min\": -1, \"max\": 1, \"bands\": [\"MNDWI\"], \"palette\": ['white', 'blue']}\n",
    "\n",
    "# set up geemap map inspector\n",
    "map_inspector_mndwi = geemap.Map(center=(8.9801, 38.7805), zoom=11)\n",
    "map_inspector_mndwi.ts_inspector(\n",
    "    left_ts=imgCol,\n",
    "    right_ts=imgCol,\n",
    "    left_names=layer_names,\n",
    "    right_names=layer_names,\n",
    "    left_vis=Mndwi_vis,\n",
    "    right_vis=Mndwi_vis,\n",
    ")\n",
    "map_inspector_mndwi"
   ]
  },
  {
   "cell_type": "code",
   "execution_count": null,
   "id": "61f76e45",
   "metadata": {},
   "outputs": [],
   "source": [
    "# # Testing a few different years to see the impact of Landsat 7 gap lines\n",
    "# y_1999 = ee.Image(imgList.get(8))\n",
    "# y_2014 = ee.Image(imgList.get(23))\n",
    "# map.addLayer(y_1999, vis, \"1999\")\n",
    "# map.addLayer(y_2011, vis, \"2011\")\n",
    "# map.addLayer(y_2014, vis, \"2014\")"
   ]
  },
  {
   "cell_type": "code",
   "execution_count": null,
   "id": "53d7ba27",
   "metadata": {},
   "outputs": [],
   "source": [
    "# Create a mask for water \n",
    "\n",
    "# mask_test = y_1991.select(\"MNDWI\")\n",
    "# mndwiMasked = mask_test.updateMask(mask_test.lte(-0.1))\n",
    "# map.addLayer(mndwiMasked, Mndwi_vis, 'MNDWI masked')\n",
    "\n",
    "ndwi_vis = {\"min\": -1, \"max\": 1, \"bands\": [\"MNDWI\"], \"palette\": ['white', 'blue']}\n",
    "\n",
    "ndwi_image = y_1991.normalizedDifference(['Green', 'Red'])\n",
    "water_image = ndwi_image.gt(0).selfMask()\n",
    "map.addLayer(water_image, {}, 'Water image')\n"
   ]
  },
  {
   "cell_type": "code",
   "execution_count": null,
   "id": "edf44b27",
   "metadata": {
    "scrolled": true
   },
   "outputs": [],
   "source": [
    "map.layers[-1]"
   ]
  },
  {
   "cell_type": "code",
   "execution_count": null,
   "id": "85fca500",
   "metadata": {
    "scrolled": true
   },
   "outputs": [],
   "source": [
    "NDBI_test = imgCol.select(\"NDBI\").toBands()\n",
    "\n",
    "test = NDBI_test.reducer.median()\n",
    "# BUI_test = imgCol.select(\"BUI\").toBands()\n",
    "\n",
    "map.addLayer(test, {}, 'NDBI Time-series')\n",
    "# map.addLayer(BUI_test, {}, 'BUI Time-series')"
   ]
  },
  {
   "cell_type": "code",
   "execution_count": null,
   "id": "e3a679a2",
   "metadata": {
    "scrolled": true
   },
   "outputs": [],
   "source": [
    "# https://github.com/fitoprincipe/ipygee/blob/master/examples/Chart.ipynb\n",
    "\n",
    "chart_ts = ui.chart.Image.series(**{\n",
    "    'imageCollection': imgCol, \n",
    "    'region': addis_bndry,\n",
    "    'reducer': 'median',\n",
    "    'scale': 30,\n",
    "    'bands': [\"Red\", \"Blue\", \"Green\", \"NIR\", \"SWIR1\", \"SWIR2\", \"MNDWI\", \"NDBI\", \"NDTI\", \"BUI\"]\n",
    "})\n",
    "\n",
    "chart_ts.renderWidget()"
   ]
  },
  {
   "cell_type": "code",
   "execution_count": null,
   "id": "b7ee79c8",
   "metadata": {},
   "outputs": [],
   "source": [
    "chart_ts.dataframe"
   ]
  },
  {
   "cell_type": "code",
   "execution_count": null,
   "id": "a82a2c18",
   "metadata": {
    "scrolled": true
   },
   "outputs": [],
   "source": [
    "# double check that 1997 exists - it doesn't! Investigate later...\n",
    "y_1997 = ee.Image(imgList.get(6))\n",
    "\n",
    "# map.addLayer(y_1997, other_vis, \"ndbi_1997\")\n",
    "\n",
    "y_1997.getInfo()"
   ]
  },
  {
   "cell_type": "code",
   "execution_count": null,
   "id": "cf566911",
   "metadata": {},
   "outputs": [],
   "source": [
    "# mndwi_1991 = y_1991.select(\"MNDWI\")\n",
    "# mndwi_2021 = y_2021.select(\"MNDWI\")\n",
    "# mask_im = mndwi_1991.lte(0.22)\n",
    "# vp = {\"min\": 0, \"max\": 1, \"bands\": [\"MNDWI\"], \"palette\": ['black', 'white']}\n",
    "# map.addLayer(mask_im, vp, \"test_mndwi\")\n",
    "\n",
    "\n",
    "def stats(img):\n",
    "    y = img.select(\"MNDWI\", \"NDBI\", \"BUI\")\n",
    "    i = geemap.image_stats(y, addis_bndry, scale=30)\n",
    "    return i.getInfo()\n",
    "\n",
    "stats(y_1991)\n",
    "stats(y_2021)\n"
   ]
  },
  {
   "cell_type": "code",
   "execution_count": null,
   "id": "c510e204",
   "metadata": {},
   "outputs": [],
   "source": [
    "# tst = pd.DataFrame(y_1991, columns = y_1991)\n",
    "# print(tst)\n",
    "\n",
    "band_names = ['Blue', 'Green', 'Red', 'NIR', 'SWIR1', 'SWIR2', 'NDBI', 'NDTI', 'MNDWI', 'NDVI', 'BUI']\n",
    "\n",
    "tst1 = imgCol.flatten()\n",
    "tst2 = geemap.ee_to_pandas(imgCol)\n",
    "\n",
    "# finalNDVI_1000 = ee.ImageCollection(modis_YrMo).map(calcmean(pts1000)).flatten()\n",
    "# df = geemap.ee_to_pandas(finalNDVI_1000)\n",
    "\n",
    "series = imgList\n",
    "\n",
    "  list = series.reduceColumns(ee.Reducer.toList(2), ['date', 'NDVI']).get('list')\n",
    "  return feature.set(ee.Dictionary(ee.List(list).flatten()))\n",
    "\n",
    "result = fc_filtered.map(GetSeries)\n",
    "print(result.getInfo())"
   ]
  },
  {
   "cell_type": "code",
   "execution_count": 32,
   "id": "f5568cc2",
   "metadata": {},
   "outputs": [
    {
     "data": {
      "text/plain": [
       "<ee.computedobject.ComputedObject at 0x1e02a8d3be0>"
      ]
     },
     "execution_count": 32,
     "metadata": {},
     "output_type": "execute_result"
    }
   ],
   "source": [
    "# def stats(img):\n",
    "#     i = geemap.image_stats(img, addis_bndry, scale=30)\n",
    "#     return i.getInfo()\n",
    "\n",
    "x = imgCol.get(0)\n",
    "x\n",
    "# median_dict = x.reduceRegion(\n",
    "#   reducer = ee.Reducer.median(),\n",
    "#   geometry = addis_bndry.geometry(),\n",
    "#   scale = 30,\n",
    "#   maxPixels = 1e9\n",
    "# )\n",
    "\n",
    "# print(median_dict)"
   ]
  },
  {
   "cell_type": "code",
   "execution_count": null,
   "id": "f6cfe98e",
   "metadata": {
    "scrolled": true
   },
   "outputs": [],
   "source": [
    "# code obtained from \n",
    "# https://github.com/mvpeppa/Remote-Sensing-Tests-with-Google-Earth-Engine/blob/main/Waterline%20extraction%20e.g.%20Lake%20Koka%20Ethiopia.ipynb\n",
    "\n",
    "band_names = 'Blue', 'Green', 'Red', 'NIR', 'SWIR1', 'SWIR2', 'NDBI', 'NDTI', 'MNDWI', 'NDVI', 'BUI'\n",
    "\n",
    "def img2array1D(img, band):\n",
    "    # extract the data from an ee.image\n",
    "    img = img.select(band)\n",
    "    # extract the pixel values from the image\n",
    "    info = img.reduceRegion(ee.Reducer.toList(), geometry=addis_bndry, scale=30)\n",
    "    # Convert to an 1D array for further use\n",
    "    data = np.array((ee.Array(info.get(band)).getInfo()))\n",
    "    return data\n",
    "\n",
    "# bui1991_array = img2array1D(y_1991, \"BUI\")\n",
    "# ndbi1991_array = img2array1D(y_1991, \"NDBI\")\n",
    "# mndwi1991_array = img2array1D(y_1991, \"MNDWI\")\n",
    "ndti1991_array = img2array1D(y_1991, \"NDTI\")\n",
    "ndvi1991_array = img2array1D(y_1991, \"NDVI\")\n",
    "\n",
    "# bui2021_array = img2array1D(y_2021, \"BUI\")\n",
    "# ndbi2021_array = img2array1D(y_2021, \"NDBI\")\n",
    "# mndwi2021_array = img2array1D(y_2021, \"MNDWI\")\n",
    "ndti2021_array = img2array1D(y_2021, \"NDTI\")\n",
    "ndvi2021_array = img2array1D(y_2021, \"NDVI\")"
   ]
  },
  {
   "cell_type": "code",
   "execution_count": null,
   "id": "7a427c23",
   "metadata": {},
   "outputs": [],
   "source": [
    "fig, axs = plt.subplots(nrows=1, ncols=5, figsize=(10,5))\n",
    "\n",
    "axs[0].hist(bui1991_array, 20, density=True, histtype='stepfilled', facecolor='g', alpha=0.5)\n",
    "axs[0].set_title('BUI 1991')\n",
    "\n",
    "axs[1].hist(ndbi1991_array, 20, density=True, histtype='stepfilled', facecolor='b', alpha=0.75)\n",
    "axs[1].set_title('NDBI 1991')\n",
    "\n",
    "axs[2].hist(mndwi1991_array, 20, density=True, histtype='stepfilled', facecolor='y', alpha=0.75)\n",
    "axs[2].set_title('MNDWI 1991')\n",
    "\n",
    "axs[3].hist(ndti1991_array, 20, density=True, histtype='stepfilled', facecolor='m', alpha=0.75)\n",
    "axs[3].set_title('NDTI 1991')\n",
    "\n",
    "axs[4].hist(ndvi1991_array, 20, density=True, histtype='stepfilled', facecolor='c', alpha=0.75)\n",
    "axs[4].set_title('NDVI 1991')\n",
    "\n",
    "fig.tight_layout()\n",
    "plt.show()"
   ]
  },
  {
   "cell_type": "code",
   "execution_count": null,
   "id": "098b7870",
   "metadata": {},
   "outputs": [],
   "source": [
    "fig, axs = plt.subplots(nrows=1, ncols=5, figsize=(10,5))\n",
    "\n",
    "axs[0].hist(bui2021_array, 20, density=True, histtype='stepfilled', facecolor='g', alpha=0.5)\n",
    "axs[0].set_title('BUI 2021')\n",
    "\n",
    "axs[1].hist(ndbi2021_array, 20, density=True, histtype='stepfilled', facecolor='b', alpha=0.75)\n",
    "axs[1].set_title('NDBI 2021')\n",
    "\n",
    "axs[2].hist(mndwi2021_array, 20, density=True, histtype='stepfilled', facecolor='y', alpha=0.75)\n",
    "axs[2].set_title('MNDWI 2021')\n",
    "\n",
    "axs[3].hist(ndti2021_array, 20, density=True, histtype='stepfilled', facecolor='m', alpha=0.75)\n",
    "axs[3].set_title('NDTI 2021')\n",
    "\n",
    "axs[4].hist(ndvi2021_array, 20, density=True, histtype='stepfilled', facecolor='c', alpha=0.75)\n",
    "axs[4].set_title('NDVI 2021')\n",
    "\n",
    "fig.tight_layout()\n",
    "plt.show()"
   ]
  },
  {
   "cell_type": "code",
   "execution_count": null,
   "id": "d794fd66",
   "metadata": {},
   "outputs": [],
   "source": [
    "# thresholding the different layers\n",
    "\n",
    "# threshold_otsu(y_1991)\n",
    "\n",
    "# some code to help: https://github.com/jordidaley/cannon-fodder/blob/48df60b98afaadf2edde30a2d6345ba9622ec53e/Google_Earth_Engine/spatialthoughts/Module4.ipynb\n",
    "# severity = change \\\n",
    "#   .where(change.lt(0.10), 0) \\\n",
    "#   .where(change.gte(0.10).And(change.lt(0.27)), 1) \\\n",
    "#   .where(change.gte(0.27).And(change.lt(0.44)), 2) \\\n",
    "#   .where(change.gte(0.44).And(change.lt(0.66)), 3) \\\n",
    "#   .where(change.gt(0.66), 4)\n",
    "\n",
    "y_1991\n"
   ]
  },
  {
   "cell_type": "code",
   "execution_count": null,
   "id": "8e4e35c0",
   "metadata": {},
   "outputs": [],
   "source": [
    "# make urban mask and non urban mask\n",
    "\n",
    "ndvi_mask =\n",
    "mndwi_mask = \n",
    "bui_mask = \n",
    "urban_mask = "
   ]
  },
  {
   "cell_type": "code",
   "execution_count": null,
   "id": "d8a8f41c",
   "metadata": {},
   "outputs": [],
   "source": [
    "sns.set(rc={'figure.figsize':(15, 6)})\n",
    "probav_time_series.plot(linewidth=1.2)\n",
    "plt.title('Weekly')"
   ]
  },
  {
   "cell_type": "code",
   "execution_count": null,
   "id": "b7d3e598",
   "metadata": {},
   "outputs": [],
   "source": [
    "# # bands = y_1991.bandNames().getInfo()\n",
    "\n",
    "# # def array1d(img, band):\n",
    "# #     array1d = img.select(band).toArray()\n",
    "# # L = array1d.reduceRegion(ee.Reducer.toList(), geometry = addis_bndry, scale = 10)\n",
    "# # np.array((ee.Array(L.get(bands)).getInfo()))\n",
    "\n",
    "\n",
    "# bands = ['Blue', 'Green', 'Red', 'NIR', 'SWIR1', 'SWIR2', 'NDBI', 'NDTI', 'MNDWI', 'NDVI', 'BUI']\n",
    "\n",
    "# array1d = imgCol.select(bands).toArray()\n",
    "# covar = array1d.reduceRegion(reducer = ee.Reducer.covariance(), geometry=addis_bndry, scale=30, maxPixels=1e9)\n",
    "\n",
    "# covarArray = ee.Array(covar.get('array'))  \n",
    "# eigens = covarArray.eigen()  \n",
    "# eigenVectors = eigens.slice(1, 1) \n",
    "\n",
    "# principalComponents = ee.Image(eigenVectors).matrixMultiply(array1d.toArray(1))\n",
    "# pcImage = (principalComponents      \n",
    "#                         .arrayProject([0])    \n",
    "#     # Make the one band  array image a multi-band image, [] -> image.    \n",
    "#                     .arrayFlatten(\n",
    "#           [['pc1', 'pc2', 'pc3', 'pc4', 'pc5', 'pc6', 'pc7', 'pc8', 'pc9', 'pc10', 'pc11']]\n",
    "#         ))\n",
    "\n",
    "# #Customize the visual parameters for PC1\n",
    "# vizParams = {\n",
    "#   \"opacity\":1,\n",
    "#   \"bands\": [\"pc11\"],\n",
    "#   \"min\":-420,\n",
    "#     \"max\":-400,\n",
    "#   \"gamma\":1}\n",
    "\n",
    "# # map8 = build_map(lat, lon, zoom, vizParams, pcImage.select('pc11'), 'TC components')\n",
    "# # map8\n",
    "\n",
    "# map.addLayer(pcImage, vizParams, \"test\")"
   ]
  },
  {
   "cell_type": "code",
   "execution_count": null,
   "id": "0a334d3b",
   "metadata": {},
   "outputs": [],
   "source": [
    "# NDBI_test = imgCol.select(\"NDBI\").toBands()\n",
    "# sample = NDBI_test.sample(aoi, 5000)\n",
    "# prop = imgList.getInfo()[1].get(\"year\")\n",
    "\n",
    "# options = {\n",
    "#     \"title\": 'July Precipitation Distribution for NW USA',\n",
    "#     \"xlabel\": 'Precipitation (mm)',\n",
    "#     \"ylabel\": 'Pixel count',\n",
    "#     \"colors\": ['#1d6b99'],\n",
    "# }\n",
    "\n",
    "# chart.feature_histogram(sample, prop, **options)"
   ]
  },
  {
   "cell_type": "code",
   "execution_count": null,
   "id": "95eb4af6",
   "metadata": {},
   "outputs": [],
   "source": [
    "# chart = ee.Chart.image.series({\n",
    "#   'imageCollection': imgCol.select(\"NDBI\"),\n",
    "#   'region': geometry,\n",
    "#   'reducer': ee.Reducer.median(),\n",
    "#   'scale': 20\n",
    "# }).setOptions({\n",
    "#       'lineWidth': 1,\n",
    "#       'title': 'NDBI Time Series',\n",
    "#       'interpolateNulls': True,\n",
    "#       'vAxis': '{title: NDBI}',\n",
    "#       'hAxis': '{title: '', format: YYYY-MMM}'\n",
    "#                })\n",
    "# print(chart)"
   ]
  },
  {
   "cell_type": "code",
   "execution_count": null,
   "id": "082c771b",
   "metadata": {
    "scrolled": true
   },
   "outputs": [],
   "source": [
    "# yrs = ee.List([])\n",
    "\n",
    "# for i in range(31):\n",
    "#     f = ee.Image(imgList.get(i)).getInfo()[\"properties\"]\n",
    "#     yr = f.get(\"year\")\n",
    "#     yrs = yrs.add(yr)\n",
    "\n",
    "# y = yrs.getInfo()\n",
    "# print(y)"
   ]
  },
  {
   "cell_type": "code",
   "execution_count": null,
   "id": "04e5c501",
   "metadata": {},
   "outputs": [],
   "source": [
    "# want to get each year and get value for each year"
   ]
  },
  {
   "cell_type": "code",
   "execution_count": null,
   "id": "208b12be",
   "metadata": {},
   "outputs": [],
   "source": [
    "# # Just make sure info for each year is there\n",
    "\n",
    "for i in range(size):\n",
    "    Im = ee.Image(imgList.get(i)).select([\"BUI\"])\n",
    "    print(Im.getInfo())"
   ]
  },
  {
   "cell_type": "code",
   "execution_count": null,
   "id": "707c3999",
   "metadata": {
    "scrolled": true
   },
   "outputs": [],
   "source": [
    "# rng = ee.Number(30)\n",
    "# newList = ee.List([])\n",
    "\n",
    "# for i in range(30):\n",
    "#     s_img = ee.Image(imgList.get(i))\n",
    "#     img_prop = s_img.getInfo()[\"properties\"]\n",
    "#     s_yr = img_prop.get(\"year\")\n",
    "#     name = \"y_\" + str(s_yr)\n",
    "#     newList = newList.add(name)\n",
    "#     print(newList)\n",
    "\n",
    "    \n",
    "# # for i in range(31):\n",
    "# #     f = ee.Image(imgList.get(i)).getInfo()[\"properties\"]\n",
    "# #     yr = f.get(\"year\")\n",
    "# #     yrs = yrs.add(yr)\n",
    "\n",
    "# # y = yrs.getInfo()\n",
    "# # print(y)"
   ]
  },
  {
   "cell_type": "code",
   "execution_count": null,
   "id": "25afddda",
   "metadata": {},
   "outputs": [],
   "source": [
    "# Can use this to see which administrative boundary had \n",
    "\n",
    "# Get the borough boundaries for Addis\n",
    "addis_boro_shpfile = \"C:/Users/c1032379/OneDrive - Newcastle University/10_Research_Project/Project_MRes/data/input_data/admin_boundaries/addis_boroadmnbndry_py_hdx_2021.shp\"\n",
    "addis_boro_bndry = geemap.shp_to_ee(addis_boro_shpfile)\n",
    "\n",
    "# geemap code for zonal statistics \n",
    "out_dir = os.path.join(os.path.expanduser(\"~\"), 'Downloads')\n",
    "out_stats = os.path.join(out_dir, 'stats.csv')\n",
    "\n",
    "# Allowed statistics type: MEAN, MAXIMUM, MINIMUM, MEDIAN, STD, MIN_MAX, VARIANCE, SUM\n",
    "geemap.zonal_statistics(imgCol, addis_boro_bndry, out_stats, statistics_type=\"MEDIAN\", scale=30)"
   ]
  },
  {
   "cell_type": "code",
   "execution_count": null,
   "id": "2c7aacbb",
   "metadata": {},
   "outputs": [],
   "source": [
    "# Convert the timestamp to a numpy array (what do you want to do with this?)"
   ]
  },
  {
   "cell_type": "markdown",
   "id": "41b13cf3",
   "metadata": {},
   "source": [
    "### "
   ]
  },
  {
   "cell_type": "markdown",
   "id": "42528f52",
   "metadata": {},
   "source": [
    "### Cleaning landsat 7 data (removing the lines)"
   ]
  },
  {
   "cell_type": "code",
   "execution_count": null,
   "id": "fda5efc5",
   "metadata": {},
   "outputs": [],
   "source": [
    "# Obtained from here: http://www.acgeospatial.co.uk/time-series-on-landsat-data-gee/#:~:text=In%20order%20to%20merge%20the,(more%20on%20these%20later).\n",
    "def L7_gapfill(imageC):\n",
    "    fill = imageC.focal_mean(1, 'square', 'pixels', 1)\n",
    "    return fill.blend(imageC)\n",
    "    \n",
    "Landsat_7_Fill = Landsat_7.map(L7_gapfill)\n",
    "map.addLayer(Landsat_7_Fill, vis_params, \"Filled Landsat 7\")"
   ]
  },
  {
   "cell_type": "code",
   "execution_count": null,
   "id": "7dff51f6",
   "metadata": {},
   "outputs": [],
   "source": [
    "# Landsat_7.image_dates(cltn, date_format='YYYY-MM-dd HH:mm').getInfo()\n",
    "dates = Landsat_7_Fill.aggregate_array('system:time_start').map(lambda d: ee.Date(d).format('YYYY-MM-dd'))\n",
    "Landsat_7_dates = dates.getInfo()\n",
    "print(Landsat_7_dates)"
   ]
  },
  {
   "cell_type": "markdown",
   "id": "5e950f61",
   "metadata": {},
   "source": [
    "### Testing out separate years"
   ]
  },
  {
   "cell_type": "markdown",
   "id": "431708f6",
   "metadata": {},
   "source": [
    "Assessing changes based on key years of Addis Ababa city planning policy, up to the present day - 1991, 2002, 2017, 2021"
   ]
  },
  {
   "cell_type": "code",
   "execution_count": null,
   "id": "5c66ac65",
   "metadata": {},
   "outputs": [],
   "source": [
    "# Area of interest covering Addis Ababa\n",
    "# aoi = ee.Geometry.Point([38.7805, 8.9801])\n",
    "\n",
    "# # Data required\n",
    "# LS_2021 = \"LANDSAT/LC08/C02/T1_L2\"\n",
    "# LS_2017 = \"LANDSAT/LC08/C02/T1_L2\"\n",
    "# LS_2002 = \"LANDSAT/LT05/C02/T1_L2\"\n",
    "# LS_1991 = \"LANDSAT/LT05/C02/T1_L2\"\n",
    "\n",
    "# # set filters \n",
    "# cloud = ee.Filter.lt(\"CLOUD_COVER\", 5)\n",
    "# d_range = ee.Filter.calendarRange(11, 1, 'month')\n",
    "# order = \"system:time_start\"\n",
    "\n",
    "\n",
    "\n",
    "# # Filter the collection\n",
    "# def filter_cltn(cltn, aoi, cloud, d_range, order):\n",
    "#     return ee.ImageCollection(cltn)\\\n",
    "#     .filterBounds(aoi)\\\n",
    "#     .filter(cloud)\\\n",
    "#     .filter(d_range)\\\n",
    "#     .sort(order)\\\n",
    "#     .map(lambda image: image.clip(addis_bndry))\n",
    "\n",
    "# Filt_2021 = filter_cltn(LS_2021, aoi, cloud, d_range, order).filterDate(\"2021-01-01\", \"2021-12-31\").map(prepL8)\n",
    "# Filt_1991 = filter_cltn(LS_1991, aoi, cloud, d_range, order).filterDate(\"1991-01-01\", \"1991-12-31\").map(prep_L5L7)"
   ]
  },
  {
   "cell_type": "code",
   "execution_count": null,
   "id": "0df7602e",
   "metadata": {},
   "outputs": [],
   "source": [
    "# print(Filt_2021.size().getInfo())\n",
    "# print(Filt_1991.size().getInfo())"
   ]
  },
  {
   "cell_type": "code",
   "execution_count": null,
   "id": "32eaf60d",
   "metadata": {},
   "outputs": [],
   "source": [
    "# print(cltn_dates(Filt_2021))\n",
    "# print(cltn_dates(Filt_1991))"
   ]
  },
  {
   "cell_type": "code",
   "execution_count": null,
   "id": "7d37f6e1",
   "metadata": {},
   "outputs": [],
   "source": [
    "# def NDBI(img):\n",
    "#     ndbi = img.normalizedDifference([\"SWIR1\", \"NIR\"]).rename('NDBI')\n",
    "#     return img.addBands(ndbi)\n",
    "\n",
    "# Filt_2021 = Filt_2021.map(NDBI)\n",
    "# Filt_1991 = Filt_1991.map(NDBI)"
   ]
  },
  {
   "cell_type": "code",
   "execution_count": null,
   "id": "d51e8008",
   "metadata": {},
   "outputs": [],
   "source": [
    "# first_2021 = Filt_2021.first()\n",
    "# first_2021.getInfo()[\"bands\"]"
   ]
  },
  {
   "cell_type": "code",
   "execution_count": null,
   "id": "2aeabebd",
   "metadata": {},
   "outputs": [],
   "source": [
    "# comp_2021 = Filt_2021.median()\n",
    "# comp_1991 = Filt_1991.median()"
   ]
  },
  {
   "cell_type": "code",
   "execution_count": null,
   "id": "07c19ade",
   "metadata": {},
   "outputs": [],
   "source": [
    "# mean_2021 = Filt_2021.mean()\n",
    "# map.addLayer(mean_2021, vis, \"Mean_2021\")"
   ]
  },
  {
   "cell_type": "code",
   "execution_count": null,
   "id": "6d7ca1b2",
   "metadata": {},
   "outputs": [],
   "source": [
    "# vis = {\"min\": 0, \"max\": 0.4,  \"gamma\": 1.2, \"bands\": [\"NIR\", \"SWIR1\", \"SWIR2\"]}\n",
    "\n",
    "# map.addLayer(comp_2021, vis, \"Comp_2021\")\n",
    "# map.addLayer(Filt_2021, vis, \"Filt_2021\")\n",
    "\n",
    "# map.addLayer(Filt_1991, vis, \"Filt_1991\")\n",
    "# map.addLayer(comp_1991, vis, \"Comp_1991\")"
   ]
  },
  {
   "cell_type": "code",
   "execution_count": null,
   "id": "dd9142bc",
   "metadata": {},
   "outputs": [],
   "source": [
    "# ndbi_vis = {\"min\": -1, \"max\": 1,  \"bands\": [\"NDBI\"], \"palette\": [\"264653\", \"2A9D8F\", \"E9C46A\", \"F25C54\", \"d00000\"]}\n",
    "# map.addLayer(comp_2021, ndbi_vis, \"NDBI_2021\")\n",
    "# map.addLayer(comp_1991, ndbi_vis, \"NDBI_1991\")"
   ]
  },
  {
   "cell_type": "code",
   "execution_count": null,
   "id": "2a999fab",
   "metadata": {
    "scrolled": true
   },
   "outputs": [],
   "source": [
    "# comp_2021.getInfo()"
   ]
  },
  {
   "cell_type": "markdown",
   "id": "a6fed03c",
   "metadata": {},
   "source": [
    "### Setting the roi"
   ]
  },
  {
   "cell_type": "code",
   "execution_count": null,
   "id": "821b45a4",
   "metadata": {},
   "outputs": [],
   "source": [
    "# roi = ee.Geometry.Polygon(\n",
    "#     [\n",
    "#         [\n",
    "#             [38.620428, 8.824848],\n",
    "#             [38.620428, 9.10768],\n",
    "#             [38.96106, 9.10768],\n",
    "#             [38.96106, 8.824848],\n",
    "#             [38.620428, 8.824848],\n",
    "#         ]\n",
    "#     ],\n",
    "#     None,\n",
    "#     False,\n",
    "# )\n"
   ]
  },
  {
   "cell_type": "code",
   "execution_count": null,
   "id": "1990165c",
   "metadata": {},
   "outputs": [],
   "source": [
    "# # see each year...\n",
    "# layer_names = ['NAIP ' + str(year) for year in range(2009, 2019)]\n",
    "# print(layer_names)"
   ]
  },
  {
   "cell_type": "code",
   "execution_count": null,
   "id": "c8ca9a73",
   "metadata": {},
   "outputs": [],
   "source": [
    "# Compute cloud score per image?"
   ]
  },
  {
   "cell_type": "markdown",
   "id": "844dced5",
   "metadata": {},
   "source": [
    "### Exporting the image"
   ]
  },
  {
   "cell_type": "code",
   "execution_count": null,
   "id": "8c664905",
   "metadata": {},
   "outputs": [],
   "source": [
    "# At what point do I want to export the image?"
   ]
  },
  {
   "cell_type": "markdown",
   "id": "668cc6a4",
   "metadata": {},
   "source": [
    "### Boundary and shapefile data"
   ]
  },
  {
   "cell_type": "code",
   "execution_count": null,
   "id": "1951a81d",
   "metadata": {},
   "outputs": [],
   "source": [
    "# # Get global boundaries layer and obtain Ethiopia from that layer\n",
    "# global_boundaries = ee.FeatureCollection(\"USDOS/LSIB/2017\")\n",
    "# Ethiopia = global_boundaries.filter(ee.Filter.eq(\"COUNTRY_NA\", \"Ethiopia\"))\n",
    "# map.addLayer(Ethiopia, {}, \"Ethiopia\")"
   ]
  },
  {
   "cell_type": "code",
   "execution_count": null,
   "id": "1d4ab693",
   "metadata": {},
   "outputs": [],
   "source": [
    "# # Get Addis Ababa shapefile from hdx website and import as a layer\n",
    "# addis_shpfile = \"C:/Users/c1032379/OneDrive - Newcastle University/10_Research_Project/Project_MRes/data/input_data/admin_boundaries/addis_bndry_py_hdx_2021.shp\"\n",
    "# addis_bndry = geemap.shp_to_ee(addis_shpfile)\n",
    "# map.addLayer(addis_bndry, {}, 'Addis Boundary')"
   ]
  },
  {
   "cell_type": "code",
   "execution_count": null,
   "id": "d6986136",
   "metadata": {},
   "outputs": [],
   "source": [
    "# # Adding borough boundary lines just in case want to use them later\n",
    "# addis_boro_shpfile = \"C:/Users/c1032379/OneDrive - Newcastle University/10_Research_Project/Project_MRes/data/input_data/admin_boundaries/addis_boroadmnbndry_py_hdx_2021.shp\"\n",
    "# addis_boro_bndry = geemap.shp_to_ee(addis_boro_shpfile)\n",
    "# map.addLayer(addis_boro_bndry, {}, 'Addis Borough Boundary')"
   ]
  },
  {
   "cell_type": "code",
   "execution_count": null,
   "id": "aaca0ef8",
   "metadata": {},
   "outputs": [],
   "source": [
    "# code to help \n",
    "# https://github.com/csaybar/EEwPython/blob/master/cnn_demo.ipynb"
   ]
  },
  {
   "cell_type": "markdown",
   "id": "5e526493",
   "metadata": {},
   "source": [
    "### Old scaling factors"
   ]
  },
  {
   "cell_type": "code",
   "execution_count": null,
   "id": "026234f5",
   "metadata": {},
   "outputs": [],
   "source": [
    "# # Apply scaling factors \n",
    "# def applyScaleFactors(image):\n",
    "#     opticalBands = image.select('SR_B.').multiply(0.0000275).add(-0.2)\n",
    "#     thermalBands = image.select('ST_B.*').multiply(0.00341802).add(149.0)\n",
    "#     return image.addBands(opticalBands, None, True) \\\n",
    "#               .addBands(thermalBands, None, True)"
   ]
  },
  {
   "cell_type": "code",
   "execution_count": null,
   "id": "3557684e",
   "metadata": {},
   "outputs": [],
   "source": [
    "# # Landsat 8 - Run functions with date filters and display on map\n",
    "# l8 = filter_cltn(LS_8, aoi, cloud, d_range, order).filterDate(\"2015-01-01\", \"2022-12-31\").map(applyScaleFactors)\n",
    "# map.addLayer(l8, vis_params_l8, \"Landsat 8\")\n",
    "\n",
    "# # Landsat 7 - Run functions with date filters and display on map\n",
    "# l7 = filter_cltn(LS_7, aoi, cloud, d_range, order).filterDate(\"2001-01-01\", \"2014-12-31\").map(applyScaleFactors)\n",
    "# map.addLayer(l7, vis_params_l5l7, \"Landsat 7\")\n",
    "\n",
    "# # Landsat 6 - Run functions with date filters and display on map\n",
    "# l5 = filter_cltn(LS_5, aoi, cloud, d_range, order).filterDate(\"1990-01-01\", \"2000-12-31\").map(applyScaleFactors)\n",
    "# map.addLayer(l5, vis_params_l5l7, \"Landsat 5\")"
   ]
  },
  {
   "cell_type": "code",
   "execution_count": null,
   "id": "61330780",
   "metadata": {},
   "outputs": [],
   "source": [
    "# testing sentinel \n",
    "# # doesn't entirely work, check out again later\n",
    "\n",
    "# sentinel = (\n",
    "#     ee.ImageCollection(\"COPERNICUS/S2_SR\")\n",
    "#     .filterDate(\"2017-01-01\", \"2021-12-31\")\n",
    "#     .filterBounds(aoi)\n",
    "#     .filter(ee.Filter.lt(\"CLOUDY_PIXEL_PERCENTAGE\", 20))\n",
    "#     .filter(ee.Filter.calendarRange(11, 1, 'month'))\n",
    "#     .sort(\"system:time_start\")\n",
    "#     .map(lambda image: image.clip(addis_bndry))\n",
    "# )\n",
    "\n",
    "# sent_vis = {\"bands\": [\"B4\", \"B3\", \"B2\"], \"gain\": [0.5, 0.5, 0.5]}\n",
    "# # Add layers to map \n",
    "# map.addLayer(sentinel, sent_vis, \"Sentinel\")\n"
   ]
  },
  {
   "cell_type": "markdown",
   "id": "fb0d63cd",
   "metadata": {},
   "source": [
    "### Old"
   ]
  },
  {
   "cell_type": "code",
   "execution_count": null,
   "id": "a3d06a00",
   "metadata": {},
   "outputs": [],
   "source": [
    "# # # # Get the median for each band for each year \n",
    "\n",
    "# # start = ee.Date('1991-01-01')\n",
    "# # date_today = datetime.date.today().strftime('%Y-%m-%d')\n",
    "# # end = ee.Date(date_today)\n",
    "# # # startMonth = 1\n",
    "# # startDay = 1\n",
    "\n",
    "# # years = ee.List.sequence(1990, 2001)\n",
    "\n",
    "# # test_L5.fromImages(years.map)\n",
    "\n",
    "# # Filter the collection\n",
    "# def filter_cltn(cltn, aoi, cloud, startDate, endDate, order):\n",
    "#     return ee.ImageCollection(cltn)\\\n",
    "#     .filterBounds(aoi)\\\n",
    "#     .filter(cloud)\\\n",
    "#     .filterDate(startDate, endDate)\\\n",
    "#     .sort(order)\\\n",
    "#     .map(lambda image: image.clip(addis_bndry))\n",
    "\n",
    "\n",
    "# test_L8 = filter_cltn(LS_8, aoi, cloud, startDate, endDate, order).map(prepL8)\n",
    "\n",
    "# map.addLayer(test_L8, vis, \"test\")"
   ]
  },
  {
   "cell_type": "code",
   "execution_count": null,
   "id": "53568267",
   "metadata": {
    "scrolled": false
   },
   "outputs": [],
   "source": [
    "# Get basemap layer and set it to Addis Ababa\n",
    "map = geemap.Map(center=(8.9801, 38.7805), zoom=11)\n",
    "map"
   ]
  },
  {
   "cell_type": "code",
   "execution_count": null,
   "id": "ce851d5b",
   "metadata": {},
   "outputs": [],
   "source": [
    "# for a in lst:\n",
    "#     print(a)\n",
    "    \n",
    "# i = L.first().getInfo()\n",
    "# L.getInfo()\n",
    "\n",
    "# LANDSAT/LC08/C02/T1_L2/LC08_168054_20131201\n",
    "\n",
    "# l1 = L.get(0)\n",
    "# print(l1.getInfo())\n",
    "\n",
    "# print(lst.first().getInfo())\n",
    "\n",
    "# def stats(img):\n",
    "#     s = img.reduceRegions({\n",
    "#     \"reducer\": ee.Reducer.mean(),\n",
    "#     \"geometry\": addis_bndry,\n",
    "#     \"scale\": 30,\n",
    "#     \"maxPixels\": 1e10\n",
    "#     })\n",
    "#     return s\n",
    "\n",
    "# tst = Landsat_8.map(stats)\n",
    "# tst.first().select(image.bandNames()).getInfo()\n",
    "\n",
    "\n",
    "# Landsat_8\n",
    "\n",
    "#     s = img.reduceRegions({\n",
    "#     \"reducer\": ee.Reducer.mean(),\n",
    "#     \"geometry\": addis_bndry,\n",
    "#     \"scale\": 30,\n",
    "#     \"maxPixels\": 1e10\n",
    "#     })\n",
    "\n",
    "# get band means\n",
    "# def band_means(img):\n",
    "# #     bands = img.select([\"Blue\", \"Green\", \"Red\", \"NIR\", \"SWIR1\", \"SWIR2\"], \n",
    "# #         [\"Blue_mean\", \"Green_mean\", \"Red_mean\", \"NIR_mean\", \"SWIR1_mean\", \"SWIR2_mean\"])\n",
    "#     means = img.reduceRegions(**{\n",
    "#         \"collection\": img,\n",
    "#         \"reducer\": ee.Reducer.mean(), \n",
    "#         \"geometry\": addis_bndry,\n",
    "#         \"crs\": 'EPSG:32637',\n",
    "#         \"scale\":30,\n",
    "#         \"maxPixels\": 1e9\n",
    "#     })\n",
    "#     return ee.Image.set(means)\n",
    "\n",
    "# L8 = Landsat_8.map(band_means)\n",
    "# L8.first()\n",
    "\n",
    "# F_L8 = ee.FeatureCollection(L8, \"properties\")\n",
    "# # mean_df = geemap.ee_to_pandas(F_L8)\n",
    "# # mean_df\n",
    "# F_L8.getInfo()\n",
    "\n",
    "\n",
    "#   var ndvi = ee.List([stats.get('ndvi'), -9999])\n",
    "#     .reduce(ee.Reducer.firstNonNull())\n",
    "\n",
    "# c = L8.first().toImage().select(\"Blue\")\n",
    "# c\n",
    "# d = c.get(\"Blue\")\n",
    "# e = d.set(\"mean\", d)\n",
    "\n",
    "# print(L8.first().get(\"Blue_mean\").getInfo())\n",
    "\n",
    "# meanband_list = \n",
    "\n",
    "# c = L8.first()\n",
    "# c.getInfo()\n",
    "# c.select([\"features\"], [\"properties\"]).getInfo()\n",
    "# # a = ee.List(c.getInfo()[\"features\"])\n",
    "\n",
    "# print(c\n",
    "#       .reduceColumns(ee.Reducer.toList(), ['nd'])\n",
    "#       .get(\"nd\"))\n",
    "\n",
    "# f = ee.FeatureCollection(c, \"properties\")\n",
    "# g = geemap.ee_to_pandas(f)\n",
    "# g\n",
    "# print(f.getString(\"Blue_mean\"))\n",
    "\n",
    "# geemap.zonal_statistics(c, out_dem_stats, statistics_type='MEAN', scale=30)\n",
    "\n",
    "\n",
    "# L8.first().select(\"properties\").get(\"mean\").getInfo()\n",
    "\n",
    "# m_2021 = band_means(y_2021)\n",
    "# m_2021.getInfo()\n",
    "\n",
    "#    'properties': {'Blue_mean': 0.0733462720409972,\n",
    "#     'Green_mean': 0.10100729667959563,\n",
    "#     'NIR_mean': 0.21939257562926642,\n",
    "#     'Red_mean': 0.12360539328317308,\n",
    "#     'SWIR1_mean': 0.2122018608079013,\n",
    "#     'SWIR2_mean': 0.171013346497335}}]}"
   ]
  },
  {
   "cell_type": "code",
   "execution_count": null,
   "id": "c72df2b7",
   "metadata": {},
   "outputs": [],
   "source": [
    "# means_list = ee.List([])\n",
    "\n",
    "# # get band means\n",
    "# def band_means(img):\n",
    "#     means = img.reduceRegions(addis_bndry, ee.Reducer.mean().forEachBand(img), 30)\n",
    "#     band_rename = ee.Image(means.select([\"Blue\", \"Green\", \"Red\", \"NIR\", \"SWIR1\", \"SWIR2\"], \n",
    "#         [\"Blue_mean\", \"Green_mean\", \"Red_mean\", \"NIR_mean\", \"SWIR1_mean\", \"SWIR2_mean\"]))\n",
    "#     means_img = ee.Image(band_rename.copyProperties(img, img.propertyNames()))\n",
    "    \n",
    "#     band_cltn_size = col.size().getInfo()\n",
    "    \n",
    "#     list_means = col.toList(band_cltn_size)\n",
    "    \n",
    "#     for i in range(0, band_cltn_size):\n",
    "#         lst = list_means.get(i).getInfo()[\"features\"][0][\"properties\"]\n",
    "\n",
    "#     return means_list.add(lst)\n",
    "\n",
    "# print(band_cltn_list.get(6).getInfo()[\"features\"][0][\"properties\"][\"Blue_mean\"])"
   ]
  }
 ],
 "metadata": {
  "kernelspec": {
   "display_name": "Python 3 (ipykernel)",
   "language": "python",
   "name": "python3"
  },
  "language_info": {
   "codemirror_mode": {
    "name": "ipython",
    "version": 3
   },
   "file_extension": ".py",
   "mimetype": "text/x-python",
   "name": "python",
   "nbconvert_exporter": "python",
   "pygments_lexer": "ipython3",
   "version": "3.8.13"
  }
 },
 "nbformat": 4,
 "nbformat_minor": 5
}
