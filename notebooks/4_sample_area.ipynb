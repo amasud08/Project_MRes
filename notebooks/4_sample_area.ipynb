{
 "cells": [
  {
   "cell_type": "code",
   "execution_count": 4,
   "id": "995c1f03",
   "metadata": {},
   "outputs": [],
   "source": [
    "import os\n",
    "import ee\n",
    "import geemap\n",
    "import geemap.chart as chart\n",
    "from geemap import cartoee\n",
    "import pandas as pd\n",
    "import numpy as np\n",
    "import datetime\n",
    "import seaborn as sns\n",
    "import matplotlib.pyplot as plt\n",
    "%matplotlib inline\n",
    "import ipygee as ui\n",
    "from skimage.filters import threshold_otsu\n",
    "from skimage.filters import threshold_li\n",
    "from skimage.filters import threshold_local\n",
    "from collections import namedtuple\n",
    "import time\n",
    "\n",
    "import warnings\n",
    "warnings.filterwarnings('ignore')"
   ]
  },
  {
   "cell_type": "code",
   "execution_count": 5,
   "id": "39b6ae93",
   "metadata": {},
   "outputs": [],
   "source": [
    "import skimage.io\n",
    "import skimage.color\n",
    "import skimage.filters"
   ]
  },
  {
   "cell_type": "code",
   "execution_count": 6,
   "id": "fbd7926d",
   "metadata": {},
   "outputs": [
    {
     "data": {
      "application/vnd.jupyter.widget-view+json": {
       "model_id": "e00c141099fa4dfd836c51ac145cab95",
       "version_major": 2,
       "version_minor": 0
      },
      "text/plain": [
       "Map(center=[8.9801, 38.7805], controls=(WidgetControl(options=['position', 'transparent_bg'], widget=HBox(chil…"
      ]
     },
     "metadata": {},
     "output_type": "display_data"
    }
   ],
   "source": [
    "# Get basemap layer and set it to Addis Ababa\n",
    "map = geemap.Map(center=(8.9801, 38.7805), zoom=11)\n",
    "map"
   ]
  },
  {
   "cell_type": "code",
   "execution_count": 16,
   "id": "37203d39",
   "metadata": {},
   "outputs": [],
   "source": [
    "# Set area of interest within Addis Ababa\n",
    "aoi = ee.FeatureCollection(map.draw_features)"
   ]
  },
  {
   "cell_type": "code",
   "execution_count": 17,
   "id": "146aae07",
   "metadata": {},
   "outputs": [],
   "source": [
    "# Data required\n",
    "LS_8 = \"LANDSAT/LC08/C02/T1_L2\"\n",
    "LS_7 = \"LANDSAT/LE07/C02/T1_L2\"\n",
    "LS_5 = \"LANDSAT/LT05/C02/T1_L2\"\n",
    "\n",
    "# # Set date filters\n",
    "start = ee.Date('1991-01-01')\n",
    "date_today = datetime.date.today().strftime('%Y-%m-%d')\n",
    "end = ee.Date(date_today)\n",
    "\n",
    "# Set additional filters \n",
    "cloud = ee.Filter.lt(\"CLOUD_COVER\", 5)\n",
    "season = ee.Filter.calendarRange(10, 2, 'month')\n",
    "order = \"system:time_start\"\n",
    "\n",
    "# Filter the collection\n",
    "def filter_cltn(cltn, aoi, cloud, startDate, endDate, season, order):\n",
    "    return ee.ImageCollection(cltn)\\\n",
    "    .filterBounds(aoi)\\\n",
    "    .filter(cloud)\\\n",
    "    .filterDate(startDate, endDate)\\\n",
    "    .filter(season)\\\n",
    "    .sort(order)\\\n",
    "    .map(lambda image: image.clip(aoi))"
   ]
  },
  {
   "cell_type": "code",
   "execution_count": 18,
   "id": "875b0c90",
   "metadata": {},
   "outputs": [],
   "source": [
    "# Code obtained from a combination of \n",
    "# https://github.com/giswqs/geemap/blob/ca365d23a10dbbbb29ff3ff5cd29acc89f42d10f/geemap/timelapse.py#L2075\n",
    "# and https://gist.github.com/jdbcode/76b9ac49faf51627ebd3ff988e10adbc\n",
    "\n",
    "### Function to mask out clouds and apply scaling factors\n",
    "def fmask(image):\n",
    "    qaMask = image.select('QA_PIXEL').bitwiseAnd(int('11111', 2)).eq(0)\n",
    "    \n",
    "    # Apply the scaling factors to the appropriate bands.\n",
    "    opticalBands = image.select('SR_B.').multiply(0.0000275).add(-0.2)\n",
    "    thermalBands = image.select('ST_B.*').multiply(0.00341802).add(149.0)    \n",
    "\n",
    "    # Replace the original bands with the scaled ones and apply the masks.\n",
    "    return image.addBands(opticalBands, None, True).addBands(thermalBands, None, True).updateMask(qaMask)\n",
    "\n",
    "\n",
    "### Function to rename Landsat 5 and 7 bands. \n",
    "def Bands_L5_L7(L5_L7imgs):\n",
    "    return L5_L7imgs.select(\n",
    "        [\"SR_B1\", \"SR_B2\", \"SR_B3\", \"SR_B4\", \"SR_B5\", \"SR_B7\"],\n",
    "        [\"Blue\", \"Green\", \"Red\", \"NIR\", \"SWIR1\", \"SWIR2\"],\n",
    "    )\n",
    "\n",
    "\n",
    "### Function to rename Landsat 5 and 7 bands. \n",
    "def Bands_L8(L8imgs):\n",
    "    return L8imgs.select(\n",
    "        [\"SR_B2\", \"SR_B3\", \"SR_B4\", \"SR_B5\", \"SR_B6\", \"SR_B7\"],\n",
    "        [\"Blue\", \"Green\", \"Red\", \"NIR\", \"SWIR1\", \"SWIR2\"],\n",
    "    )\n",
    "\n",
    "### Functions to prepare and resample Landsat 5, 7 and 8 imagery.\n",
    "def prepL8(img):\n",
    "    orig = img\n",
    "    img = fmask(img)\n",
    "    img = Bands_L8(img)\n",
    "    return ee.Image(img.copyProperties(orig, orig.propertyNames())).resample(\"bicubic\")\n",
    "\n",
    "def prep_L5L7(img):\n",
    "    orig = img\n",
    "    img = fmask(img)\n",
    "    img = Bands_L5_L7(img)\n",
    "    return ee.Image(img.copyProperties(orig, orig.propertyNames())).resample(\"bicubic\")"
   ]
  },
  {
   "cell_type": "code",
   "execution_count": 19,
   "id": "1a74ea1e",
   "metadata": {},
   "outputs": [],
   "source": [
    "# Include the following indices - Normalized difference built-up index (NDBI), \n",
    "# Normalized Difference Thermal Index (NDTI) and Buildup Index (BUI)\n",
    "\n",
    "def indices(img):\n",
    "    \n",
    "    # calculate ndbi\n",
    "    ndbi = img.normalizedDifference([\"SWIR1\", \"NIR\"]).rename('NDBI')\n",
    "    \n",
    "    # calculate mndbi\n",
    "    mndbi = img.normalizedDifference([\"SWIR2\", \"Blue\"]).rename('MNDBI')\n",
    "    \n",
    "    \n",
    "    buiA = img.expression(\"(SWIR1 - NIR) / (SWIR1 + NIR)\", {\n",
    "        \"SWIR1\": img.select(\"SWIR1\"),\n",
    "        \"NIR\": img.select(\"NIR\")\n",
    "    }).rename(\"BUI_A\")\n",
    "    \n",
    "    buiB = img.expression(\"(NIR - Red) / (NIR + Red)\", {\n",
    "        \"NIR\": img.select(\"NIR\"),\n",
    "        \"Red\": img.select(\"Red\")\n",
    "    }).rename(\"BUI_B\")\n",
    "        \n",
    "    bui_AB = buiA.addBands(buiB);\n",
    "    bui = bui_AB.normalizedDifference([\"BUI_A\", \"BUI_B\"]).rename(\"BUI\")\n",
    "    \n",
    "    #Calculate Index-Based Built-Up Index (IBI)\n",
    "    # https://bikeshbade.com.np/tutorials/Detail/?title=Most%20used%20spectral%20Indices%20with%20free%20satellite%20data&code=23\n",
    "    ibiA = img.expression('2 * SWIR1 / (SWIR1 + NIR)', {\n",
    "        'SWIR1': img.select('SWIR1'),\n",
    "        'NIR'  : img.select('NIR')}).rename(\"IBI_A\")\n",
    "    \n",
    "    ibiB = img.expression('(NIR / (NIR + Red)) + (Green / (Green + SWIR1))', {\n",
    "        \"NIR\"  : img.select(\"NIR\"),\n",
    "        \"Red\"  : img.select(\"Red\"),\n",
    "        \"Green\": img.select(\"Green\"),\n",
    "        \"SWIR1\": img.select(\"SWIR1\")}).rename(\"IBI_B\")\n",
    "    \n",
    "    ibiAB = ibiA.addBands(ibiB);\n",
    "    ibi = ibiAB.normalizedDifference([\"IBI_A\", \"IBI_B\"]).rename(\"IBI\")\n",
    "    \n",
    "    \n",
    "    # Calculate ENDISI - https://docs.dea.ga.gov.au/notebooks/Real_world_examples/Urban_change_detection.html\n",
    "    swir_diff = img.expression(\"SWIR1 / SWIR2\", {\"SWIR1\": img.select(\"SWIR1\"), \"SWIR2\": img.select(\"SWIR2\"),\n",
    "                                                }).rename('swir_diff')\n",
    "    \n",
    "     \n",
    "    mndwi = img.normalizedDifference([\"Green\", \"SWIR1\"]).rename('MNDWI')\n",
    " \n",
    "    img = img.addBands([swir_diff, mndwi])\n",
    "    \n",
    "    blue_mean = img.select(\"Blue\").reduceRegion(ee.Reducer.mean(), aoi, 30).toImage().rename(\"blue_mean\")\n",
    "    \n",
    "    swir_mean = img.select(\"swir_diff\").reduceRegion(ee.Reducer.mean(), aoi, 30).toImage().rename(\"swir_mean\")\n",
    "    \n",
    "    mndwi_mean = img.select(\"MNDWI\").multiply(img.select(\"MNDWI\")).reduceRegion(ee.Reducer.mean(), aoi, 30).toImage().rename(\"mndwi_mean\")\n",
    "    \n",
    "    img = img.addBands([blue_mean, swir_mean, mndwi_mean])\n",
    "    \n",
    "    alpha = img.expression('(2 * b(\"blue_mean\")) / (b(\"swir_mean\") +  b(\"mndwi_mean\"))').rename(\"alpha\")\n",
    "    \n",
    "    img = img.addBands(alpha)\n",
    "    \n",
    "    ENDISI = img.expression('(b(\"Blue\") - b(\"alpha\") * (b(\"swir_diff\") + b(\"MNDWI\")**2)) / (b(\"Blue\") + b(\"alpha\") * (b(\"swir_diff\") + b(\"MNDWI\")**2))').rename(\"ENDISI\")\n",
    "    \n",
    "    return  img.addBands([ndbi, mndbi, bui, ibi, ENDISI])"
   ]
  },
  {
   "cell_type": "code",
   "execution_count": 20,
   "id": "e2ed7dd7",
   "metadata": {},
   "outputs": [],
   "source": [
    "### Adapted code from https://gist.github.com/jdbcode/76b9ac49faf51627ebd3ff988e10adbc\n",
    "\n",
    "# Setup vars to get dates.\n",
    "startYear = 1991\n",
    "endYear = 2021\n",
    "startMonth = 10\n",
    "startDay = 1\n",
    "nDays = 151\n",
    "\n",
    "# Get annual median collection.    \n",
    "def getAnnualComp(y):\n",
    "    startDate = ee.Date.fromYMD(\n",
    "    ee.Number(y), ee.Number(startMonth), ee.Number(startDay))\n",
    "    endDate = startDate.advance(ee.Number(nDays), 'day')\n",
    "\n",
    "    # Filter collections and prepare them for merging.\n",
    "    t_LC08coly = filter_cltn(LS_8, aoi, cloud, startDate, endDate, season, order).map(prepL8)\n",
    "    t_LE07coly = filter_cltn(LS_7, aoi, cloud, startDate, endDate, season, order).map(prep_L5L7)\n",
    "    t_LT05coly = filter_cltn(LS_5, aoi, cloud, startDate, endDate, season, order).map(prep_L5L7)\n",
    "\n",
    "    # Merge the collections.\n",
    "    col = t_LC08coly.merge(t_LE07coly).merge(t_LT05coly)\n",
    "    \n",
    "    yearImg = col.median()\n",
    "    nBands = yearImg.bandNames().size()\n",
    "    yearImg = ee.Image(ee.Algorithms.If(\n",
    "        nBands,\n",
    "        yearImg,\n",
    "        dummyImg))\n",
    "    return(indices(yearImg)\n",
    "           .set({'year': y, 'system:time_start': startDate.millis(), 'nBands': nBands}))\n",
    "\n",
    "# # Make a dummy image for missing years.\n",
    "bandNames = ee.List(['Blue', 'Green', 'Red', 'NIR', 'SWIR1', 'SWIR2'])\n",
    "fillerValues = ee.List.repeat(0, bandNames.size())\n",
    "dummyImg = ee.Image.constant(fillerValues).rename(bandNames).selfMask().int16()\n",
    "\n",
    "# Get a list of years\n",
    "years = ee.List.sequence(startYear, endYear)\n",
    "\n",
    "# Make list of annual image composites.\n",
    "imgList = years.map(getAnnualComp)\n",
    "\n",
    "# Convert image composite list to collection\n",
    "imgCol = ee.ImageCollection.fromImages(imgList)"
   ]
  },
  {
   "cell_type": "code",
   "execution_count": 21,
   "id": "5687bd2c",
   "metadata": {},
   "outputs": [],
   "source": [
    "# get the size of the collection\n",
    "size = imgCol.size().getInfo()"
   ]
  },
  {
   "cell_type": "code",
   "execution_count": 22,
   "id": "f4e3f0fb",
   "metadata": {},
   "outputs": [],
   "source": [
    "y_1991 = ee.Image(imgList.get(0))\n",
    "y_1992 = ee.Image(imgList.get(1))\n",
    "y_1993 = ee.Image(imgList.get(2))\n",
    "y_1994 = ee.Image(imgList.get(3))\n",
    "y_1995 = ee.Image(imgList.get(4))\n",
    "y_1996 = ee.Image(imgList.get(5))\n",
    "\n",
    "y_1998 = ee.Image(imgList.get(7))\n",
    "y_1999 = ee.Image(imgList.get(8))\n",
    "y_2000 = ee.Image(imgList.get(9))\n",
    "y_2001 = ee.Image(imgList.get(10))\n",
    "y_2002 = ee.Image(imgList.get(11))\n",
    "y_2003 = ee.Image(imgList.get(12))\n",
    "y_2004 = ee.Image(imgList.get(13))\n",
    "y_2005 = ee.Image(imgList.get(14))\n",
    "y_2006 = ee.Image(imgList.get(15))\n",
    "y_2007 = ee.Image(imgList.get(16))\n",
    "y_2008 = ee.Image(imgList.get(17))\n",
    "y_2009 = ee.Image(imgList.get(18))\n",
    "y_2010 = ee.Image(imgList.get(19))\n",
    "y_2011 = ee.Image(imgList.get(20))\n",
    "y_2012 = ee.Image(imgList.get(21))\n",
    "y_2013 = ee.Image(imgList.get(22))\n",
    "y_2014 = ee.Image(imgList.get(23))\n",
    "y_2015 = ee.Image(imgList.get(24))\n",
    "y_2016 = ee.Image(imgList.get(25))\n",
    "y_2017 = ee.Image(imgList.get(26))\n",
    "y_2018 = ee.Image(imgList.get(27))\n",
    "y_2019 = ee.Image(imgList.get(28))\n",
    "y_2020 = ee.Image(imgList.get(29))\n",
    "y_2021 = ee.Image(imgList.get(30)) \n",
    "\n",
    "annual_list = [y_1991, y_1992, y_1993, y_1994, y_1995, y_1996, y_1998, y_1999, y_2000, y_2001, y_2002, y_2003, y_2004, y_2005, \n",
    "               y_2006, y_2007, y_2008, y_2009, y_2010, y_2011, y_2012, y_2013, y_2014, y_2015, y_2016, y_2017, y_2018, y_2019,\n",
    "              y_2020, y_2021]"
   ]
  },
  {
   "cell_type": "code",
   "execution_count": 23,
   "id": "3b38496b",
   "metadata": {},
   "outputs": [],
   "source": [
    "# code obtained from \n",
    "# https://github.com/mvpeppa/Remote-Sensing-Tests-with-Google-Earth-Engine/blob/main/Waterline%20extraction%20e.g.%20Lake%20Koka%20Ethiopia.ipynb\n",
    "\n",
    "def img2array1D(img, band):\n",
    "    # extract the data from an ee.image\n",
    "    img = img.select(band)\n",
    "    # extract the pixel values from the image\n",
    "    info = img.reduceRegion(ee.Reducer.toList(), geometry=aoi, scale=30)\n",
    "    # Convert to an 1D array for further use\n",
    "    data = np.array((ee.Array(info.get(band)).getInfo()))\n",
    "    return data"
   ]
  },
  {
   "cell_type": "code",
   "execution_count": 24,
   "id": "52660e31",
   "metadata": {},
   "outputs": [],
   "source": [
    "annual_list = [y_1991, y_1992, y_1993, y_1994, y_1995, y_1996, y_1998, y_1999, y_2000, y_2001, y_2002, y_2003, y_2004, \n",
    "               y_2005, y_2006, y_2007, y_2008, y_2009, y_2010, y_2011, y_2012, y_2013, y_2014, y_2015, y_2016, y_2017, \n",
    "               y_2018, y_2019, y_2020, y_2021]\n",
    "\n",
    "annual_list_names = [\"y_1991\", \"y_1992\", \"y_1993\", \"y_1994\", \"y_1995\", \"y_1996\", \"y_1998\", \"y_1999\", \"y_2000\", \"y_2001\", \n",
    "                     \"y_2002\", \"y_2003\", \"y_2004\", \"y_2005\", \"y_2006\", \"y_2007\", \"y_2008\", \"y_2009\", \"y_2010\", \"y_2011\", \n",
    "                     \"y_2012\", \"y_2013\", \"y_2014\", \"y_2015\", \"y_2016\", \"y_2017\", \"y_2018\", \"y_2019\", \"y_2020\", \"y_2021\"]\n",
    "\n",
    "list_of_bands = [\"Blue\", \"Green\", \"Red\", \"NIR\", \"SWIR1\", \"SWIR2\", \"NDBI\", \"MNDBI\", \"IBI\", \"ENDISI\"]\n",
    "\n",
    "year_output = []\n",
    "\n",
    "for _,year in enumerate(annual_list):\n",
    "    output = []\n",
    "    \n",
    "    for _,band in enumerate(list_of_bands):\n",
    "        output.append(img2array1D(year, band))\n",
    "    \n",
    "    year_output.append(dict(zip(list_of_bands, output)))\n",
    "\n",
    "array_dict = dict(zip(annual_list_names, year_output))\n",
    "\n",
    "# pd.DataFrame(output_dict)"
   ]
  },
  {
   "cell_type": "code",
   "execution_count": 25,
   "id": "02b2895e",
   "metadata": {},
   "outputs": [
    {
     "data": {
      "text/plain": [
       "{'Blue': array([0.05656281, 0.07335183, 0.10266929, ..., 0.03066969, 0.02042802,\n",
       "        0.01904127]),\n",
       " 'Green': array([0.07986253, 0.095963  , 0.13190408, ..., 0.05190257, 0.03629253,\n",
       "        0.03510176]),\n",
       " 'Red': array([0.08776178, 0.10790782, 0.14886654, ..., 0.05435745, 0.0345065 ,\n",
       "        0.03275639]),\n",
       " 'NIR': array([0.19221208, 0.19972588, 0.19690574, ..., 0.20421439, 0.19078795,\n",
       "        0.19072679]),\n",
       " 'SWIR1': array([0.15086064, 0.18953286, 0.226528  , ..., 0.12246421, 0.07756891,\n",
       "        0.08097237]),\n",
       " 'SWIR2': array([0.12215311, 0.16337419, 0.2138945 , ..., 0.07769556, 0.03962648,\n",
       "        0.04102152]),\n",
       " 'NDBI': array([-0.12053256, -0.02618574,  0.06995725, ..., -0.2502465 ,\n",
       "        -0.42189732, -0.4039557 ]),\n",
       " 'MNDBI': array([0.36700875, 0.38028082, 0.35135162, ..., 0.43395707, 0.31968391,\n",
       "        0.36595455]),\n",
       " 'IBI': array([-0.08012392, -0.0058933 ,  0.06599878, ..., -0.18380623,\n",
       "        -0.336918  , -0.31953767]),\n",
       " 'ENDISI': array([-3.62916259e-01, -2.22552565e-01, -2.39981459e-04, ...,\n",
       "        -6.75468942e-01, -8.05930518e-01, -8.21108637e-01])}"
      ]
     },
     "execution_count": 25,
     "metadata": {},
     "output_type": "execute_result"
    }
   ],
   "source": [
    "array_2015 = array_dict[\"y_2015\"]\n",
    "array_2015"
   ]
  },
  {
   "cell_type": "code",
   "execution_count": 26,
   "id": "c0302aa1",
   "metadata": {
    "scrolled": true
   },
   "outputs": [
    {
     "data": {
      "image/png": "[encoded data removed]",
      "text/plain": [
       "<Figure size 864x288 with 4 Axes>"
      ]
     },
     "metadata": {
      "needs_background": "light"
     },
     "output_type": "display_data"
    }
   ],
   "source": [
    "# plot 2015 band histograms\n",
    "fig, axs = plt.subplots(nrows=1, ncols=4, figsize=(12,4))\n",
    "\n",
    "axs[0].hist(array_2015[\"NDBI\"], 500, density=True, histtype='stepfilled', facecolor='b', alpha=0.75)\n",
    "axs[0].set_title('NDBI')\n",
    "\n",
    "axs[1].hist(array_2015[\"MNDBI\"], 500, density=True, histtype='stepfilled', facecolor='y', alpha=0.75)\n",
    "axs[1].set_title('MNDBI')\n",
    "\n",
    "axs[2].hist(array_2015[\"IBI\"], 500, density=True, histtype='stepfilled', facecolor='c', alpha=0.75)\n",
    "axs[2].set_title('IBI')\n",
    "\n",
    "axs[3].hist(array_2015[\"ENDISI\"], 500, density=True, histtype='stepfilled', facecolor='m', alpha=0.75)\n",
    "axs[3].set_title('ENDISI')\n",
    "\n",
    "fig.suptitle(\"Distribution of pixel values across urban indices in Addis Ababa in 2015\", size=16)\n",
    "fig.subplots_adjust(top=0.88)\n",
    "fig.supxlabel(\"Index Range\")\n",
    "fig.supylabel(\"Frequency\")\n",
    "\n",
    "fig.tight_layout()\n",
    "plt.show()"
   ]
  },
  {
   "cell_type": "code",
   "execution_count": 27,
   "id": "751ee421",
   "metadata": {},
   "outputs": [
    {
     "name": "stdout",
     "output_type": "stream",
     "text": [
      "Threshold Otsu: NDBI:-0.11, MNDBI:0.41, IBI:-0.07, ENDISI:-0.4\n",
      "Threshold Li: NDBI:-0.14, MNDBI:0.4, IBI:-0.09, ENDISI:-0.46\n"
     ]
    }
   ],
   "source": [
    "# Get automiatic thresholds for 2015 (based on Global Human Settlement Data validation)\n",
    "ndbi_2015otsu = threshold_otsu(array_2015[\"NDBI\"]).round(2)\n",
    "ndbi_2015li = threshold_li(array_2015[\"NDBI\"]).round(2)\n",
    "\n",
    "mndbi_2015otsu = threshold_otsu(array_2015[\"MNDBI\"]).round(2)\n",
    "mndbi_2015li = threshold_li(array_2015[\"MNDBI\"]).round(2)\n",
    "\n",
    "ibi_2015otsu = threshold_otsu(array_2015[\"IBI\"]).round(2)\n",
    "ibi_2015li = threshold_li(array_2015[\"IBI\"]).round(2)\n",
    "\n",
    "endisi_2015otsu = threshold_otsu(array_2015[\"ENDISI\"]).round(2)\n",
    "endisi_2015li = threshold_li(array_2015[\"ENDISI\"]).round(2)\n",
    "\n",
    "print(f\"Threshold Otsu: NDBI:{ndbi_2015otsu}, MNDBI:{mndbi_2015otsu}, IBI:{ibi_2015otsu}, ENDISI:{endisi_2015otsu}\")\n",
    "print(f\"Threshold Li: NDBI:{ndbi_2015li}, MNDBI:{mndbi_2015li}, IBI:{ibi_2015li}, ENDISI:{endisi_2015li}\")"
   ]
  },
  {
   "cell_type": "code",
   "execution_count": 28,
   "id": "50dbabb9",
   "metadata": {},
   "outputs": [
    {
     "data": {
      "text/plain": [
       "Text(0.5, 0.01, 'Index Range')"
      ]
     },
     "execution_count": 28,
     "metadata": {},
     "output_type": "execute_result"
    },
    {
     "data": {
      "image/png": "[encoded data removed]",
      "text/plain": [
       "<Figure size 1080x504 with 4 Axes>"
      ]
     },
     "metadata": {
      "needs_background": "light"
     },
     "output_type": "display_data"
    }
   ],
   "source": [
    "# Plot thresholds\n",
    "\n",
    "fig, ax = plt.subplots(nrows=2, ncols=2, figsize=(15,7))\n",
    "\n",
    "sns.kdeplot(array_2015[\"ENDISI\"].flatten(), label='ENDISI',legend=True, ax=ax[0,0])\n",
    "ax[0,0].axvline(-0.36, color='indianred', label='Threshold Otsu')\n",
    "ax[0,0].axvline(-0.41, color='#01796f', label='Threshold Li')\n",
    "ax[0,0].set_title('ENDISI')\n",
    "\n",
    "sns.kdeplot(array_2015[\"IBI\"].flatten(), label='IBI',legend=True, ax=ax[0,1])\n",
    "ax[0,1].axvline(-0.08, color='indianred', label='Threshold Otsu')\n",
    "ax[0,1].axvline(-0.1, color='#01796f', label='Threshold Li')\n",
    "ax[0,1].set_title('IBI')\n",
    "\n",
    "sns.kdeplot(array_2015[\"MNDBI\"].flatten(), label='MNDBI',legend=True, ax=ax[1,0])\n",
    "ax[1,0].axvline(0.44, color='indianred', label='Threshold Otsu')\n",
    "ax[1,0].axvline(0.43, color='#01796f', label='Threshold Li')\n",
    "ax[1,0].set_title('MNDBI')\n",
    "\n",
    "sns.kdeplot(array_2015[\"NDBI\"].flatten(), label='NDBI',legend=True, ax=ax[1,1])\n",
    "ax[1,1].axvline(-0.13, color='indianred', label='Threshold Otsu')\n",
    "ax[1,1].axvline(-0.15, color='#01796f', label='Threshold Li')\n",
    "ax[1,1].set_title('NDBI')\n",
    "\n",
    "labels = ['Threshold Otsu', 'Threshold Li']\n",
    "fig.legend(labels, loc='lower right', bbox_to_anchor=(1,-0.1), ncol=len(labels), bbox_transform=fig.transFigure)\n",
    "\n",
    "fig.suptitle(\"Distribution of pixel values across urban indices in Addis Ababa in 2015\", size=16)\n",
    "fig.subplots_adjust(top=0.88)\n",
    "fig.supxlabel(\"Index Range\")"
   ]
  },
  {
   "cell_type": "code",
   "execution_count": 29,
   "id": "35c116cb",
   "metadata": {},
   "outputs": [],
   "source": [
    "# Get validation data\n",
    "ghsl_img = ee.Image('JRC/GHSL/P2016/BUILT_LDSMT_GLOBE_V1').select(\"built\").clip(aoi)"
   ]
  },
  {
   "cell_type": "code",
   "execution_count": 30,
   "id": "330007c1",
   "metadata": {},
   "outputs": [
    {
     "name": "stdout",
     "output_type": "stream",
     "text": [
      "Original GHSL scale: 38.218514142588525, Reprojected Scale: 30.000000000000004\n"
     ]
    }
   ],
   "source": [
    "# reproject to Landsat\n",
    "LS_projection = y_2015.projection().getInfo()['crs']\n",
    "old_scale = ghsl_img.projection().nominalScale().getInfo()\n",
    "ghsl = ghsl_img.resample('bicubic').reproject(crs=LS_projection, scale=30)\n",
    "new_scale = ghsl.projection().nominalScale().getInfo()\n",
    "\n",
    "print(f\"Original GHSL scale: {old_scale}, Reprojected Scale: {new_scale}\")"
   ]
  },
  {
   "cell_type": "code",
   "execution_count": 31,
   "id": "68bd0f4f",
   "metadata": {},
   "outputs": [],
   "source": [
    "ghsl_array = img2array1D(ghsl, \"built\")"
   ]
  },
  {
   "cell_type": "code",
   "execution_count": 32,
   "id": "542e0b4e",
   "metadata": {},
   "outputs": [],
   "source": [
    "# ghsl_built = ghsl.gte(3)\n",
    "Params = {\"min\":0, \"max\":6, \"palette\":['0c1d60', '000000','448564', '70daa4', '83ffbf', 'ffffff']}\n",
    "map.addLayer(ghsl_img, Params, \"GHSL/2016\")"
   ]
  },
  {
   "cell_type": "code",
   "execution_count": 33,
   "id": "319c15c5",
   "metadata": {},
   "outputs": [],
   "source": [
    "endisi2015 = y_2015.select(\"ENDISI\").gte(-0.36)\n",
    "visuals = {\"palette\": [\"black\", \"orange\"]}\n",
    "map.addLayer(endisi2015, visuals, \"ENDISI AT\")"
   ]
  },
  {
   "cell_type": "code",
   "execution_count": 34,
   "id": "2bea074e",
   "metadata": {},
   "outputs": [],
   "source": [
    "endisi2015 = y_2015.select(\"ENDISI\").gte(-0.12)\n",
    "visuals = {\"palette\": [\"black\", \"orange\"]}\n",
    "map.addLayer(endisi2015, visuals, \"ENDISI MT\")"
   ]
  }
 ],
 "metadata": {
  "kernelspec": {
   "display_name": "Python 3 (ipykernel)",
   "language": "python",
   "name": "python3"
  },
  "language_info": {
   "codemirror_mode": {
    "name": "ipython",
    "version": 3
   },
   "file_extension": ".py",
   "mimetype": "text/x-python",
   "name": "python",
   "nbconvert_exporter": "python",
   "pygments_lexer": "ipython3",
   "version": "3.8.13"
  }
 },
 "nbformat": 4,
 "nbformat_minor": 5
}
